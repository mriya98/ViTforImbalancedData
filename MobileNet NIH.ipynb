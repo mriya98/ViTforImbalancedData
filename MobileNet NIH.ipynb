{
  "nbformat": 4,
  "nbformat_minor": 0,
  "metadata": {
    "colab": {
      "provenance": [],
      "machine_shape": "hm",
      "gpuType": "T4",
      "toc_visible": true
    },
    "kernelspec": {
      "name": "python3",
      "display_name": "Python 3"
    },
    "language_info": {
      "name": "python"
    },
    "accelerator": "GPU",
    "widgets": {
      "application/vnd.jupyter.widget-state+json": {
        "cbcb2b0672be46a782802d0b5fddf713": {
          "model_module": "@jupyter-widgets/controls",
          "model_name": "HBoxModel",
          "model_module_version": "1.5.0",
          "state": {
            "_dom_classes": [],
            "_model_module": "@jupyter-widgets/controls",
            "_model_module_version": "1.5.0",
            "_model_name": "HBoxModel",
            "_view_count": null,
            "_view_module": "@jupyter-widgets/controls",
            "_view_module_version": "1.5.0",
            "_view_name": "HBoxView",
            "box_style": "",
            "children": [
              "IPY_MODEL_fd7d45ae17de4e1292b57e28b7353333",
              "IPY_MODEL_731f1651ea994294846b0c859680c90e",
              "IPY_MODEL_b8ae22bfce77428ba2ec39badc72c5e1"
            ],
            "layout": "IPY_MODEL_92c5b098c6584bba9462ae1cbbfc54bd"
          }
        },
        "fd7d45ae17de4e1292b57e28b7353333": {
          "model_module": "@jupyter-widgets/controls",
          "model_name": "HTMLModel",
          "model_module_version": "1.5.0",
          "state": {
            "_dom_classes": [],
            "_model_module": "@jupyter-widgets/controls",
            "_model_module_version": "1.5.0",
            "_model_name": "HTMLModel",
            "_view_count": null,
            "_view_module": "@jupyter-widgets/controls",
            "_view_module_version": "1.5.0",
            "_view_name": "HTMLView",
            "description": "",
            "description_tooltip": null,
            "layout": "IPY_MODEL_aa4d35f5544640e486b787b9e9d422b7",
            "placeholder": "​",
            "style": "IPY_MODEL_c990a24e4724485fbcca7984f3265d3f",
            "value": "Resolving data files: 100%"
          }
        },
        "731f1651ea994294846b0c859680c90e": {
          "model_module": "@jupyter-widgets/controls",
          "model_name": "FloatProgressModel",
          "model_module_version": "1.5.0",
          "state": {
            "_dom_classes": [],
            "_model_module": "@jupyter-widgets/controls",
            "_model_module_version": "1.5.0",
            "_model_name": "FloatProgressModel",
            "_view_count": null,
            "_view_module": "@jupyter-widgets/controls",
            "_view_module_version": "1.5.0",
            "_view_name": "ProgressView",
            "bar_style": "success",
            "description": "",
            "description_tooltip": null,
            "layout": "IPY_MODEL_ee94a81987e5436bbb40b19b6019b686",
            "max": 5607,
            "min": 0,
            "orientation": "horizontal",
            "style": "IPY_MODEL_8a360d083d774d8e86dbbe539596dd2b",
            "value": 5607
          }
        },
        "b8ae22bfce77428ba2ec39badc72c5e1": {
          "model_module": "@jupyter-widgets/controls",
          "model_name": "HTMLModel",
          "model_module_version": "1.5.0",
          "state": {
            "_dom_classes": [],
            "_model_module": "@jupyter-widgets/controls",
            "_model_module_version": "1.5.0",
            "_model_name": "HTMLModel",
            "_view_count": null,
            "_view_module": "@jupyter-widgets/controls",
            "_view_module_version": "1.5.0",
            "_view_name": "HTMLView",
            "description": "",
            "description_tooltip": null,
            "layout": "IPY_MODEL_76faedcc550043c199b4ca103051c845",
            "placeholder": "​",
            "style": "IPY_MODEL_edbca1cbd73d43ebafbda0607c81d608",
            "value": " 5607/5607 [00:00&lt;00:00, 8406.98it/s]"
          }
        },
        "92c5b098c6584bba9462ae1cbbfc54bd": {
          "model_module": "@jupyter-widgets/base",
          "model_name": "LayoutModel",
          "model_module_version": "1.2.0",
          "state": {
            "_model_module": "@jupyter-widgets/base",
            "_model_module_version": "1.2.0",
            "_model_name": "LayoutModel",
            "_view_count": null,
            "_view_module": "@jupyter-widgets/base",
            "_view_module_version": "1.2.0",
            "_view_name": "LayoutView",
            "align_content": null,
            "align_items": null,
            "align_self": null,
            "border": null,
            "bottom": null,
            "display": null,
            "flex": null,
            "flex_flow": null,
            "grid_area": null,
            "grid_auto_columns": null,
            "grid_auto_flow": null,
            "grid_auto_rows": null,
            "grid_column": null,
            "grid_gap": null,
            "grid_row": null,
            "grid_template_areas": null,
            "grid_template_columns": null,
            "grid_template_rows": null,
            "height": null,
            "justify_content": null,
            "justify_items": null,
            "left": null,
            "margin": null,
            "max_height": null,
            "max_width": null,
            "min_height": null,
            "min_width": null,
            "object_fit": null,
            "object_position": null,
            "order": null,
            "overflow": null,
            "overflow_x": null,
            "overflow_y": null,
            "padding": null,
            "right": null,
            "top": null,
            "visibility": null,
            "width": null
          }
        },
        "aa4d35f5544640e486b787b9e9d422b7": {
          "model_module": "@jupyter-widgets/base",
          "model_name": "LayoutModel",
          "model_module_version": "1.2.0",
          "state": {
            "_model_module": "@jupyter-widgets/base",
            "_model_module_version": "1.2.0",
            "_model_name": "LayoutModel",
            "_view_count": null,
            "_view_module": "@jupyter-widgets/base",
            "_view_module_version": "1.2.0",
            "_view_name": "LayoutView",
            "align_content": null,
            "align_items": null,
            "align_self": null,
            "border": null,
            "bottom": null,
            "display": null,
            "flex": null,
            "flex_flow": null,
            "grid_area": null,
            "grid_auto_columns": null,
            "grid_auto_flow": null,
            "grid_auto_rows": null,
            "grid_column": null,
            "grid_gap": null,
            "grid_row": null,
            "grid_template_areas": null,
            "grid_template_columns": null,
            "grid_template_rows": null,
            "height": null,
            "justify_content": null,
            "justify_items": null,
            "left": null,
            "margin": null,
            "max_height": null,
            "max_width": null,
            "min_height": null,
            "min_width": null,
            "object_fit": null,
            "object_position": null,
            "order": null,
            "overflow": null,
            "overflow_x": null,
            "overflow_y": null,
            "padding": null,
            "right": null,
            "top": null,
            "visibility": null,
            "width": null
          }
        },
        "c990a24e4724485fbcca7984f3265d3f": {
          "model_module": "@jupyter-widgets/controls",
          "model_name": "DescriptionStyleModel",
          "model_module_version": "1.5.0",
          "state": {
            "_model_module": "@jupyter-widgets/controls",
            "_model_module_version": "1.5.0",
            "_model_name": "DescriptionStyleModel",
            "_view_count": null,
            "_view_module": "@jupyter-widgets/base",
            "_view_module_version": "1.2.0",
            "_view_name": "StyleView",
            "description_width": ""
          }
        },
        "ee94a81987e5436bbb40b19b6019b686": {
          "model_module": "@jupyter-widgets/base",
          "model_name": "LayoutModel",
          "model_module_version": "1.2.0",
          "state": {
            "_model_module": "@jupyter-widgets/base",
            "_model_module_version": "1.2.0",
            "_model_name": "LayoutModel",
            "_view_count": null,
            "_view_module": "@jupyter-widgets/base",
            "_view_module_version": "1.2.0",
            "_view_name": "LayoutView",
            "align_content": null,
            "align_items": null,
            "align_self": null,
            "border": null,
            "bottom": null,
            "display": null,
            "flex": null,
            "flex_flow": null,
            "grid_area": null,
            "grid_auto_columns": null,
            "grid_auto_flow": null,
            "grid_auto_rows": null,
            "grid_column": null,
            "grid_gap": null,
            "grid_row": null,
            "grid_template_areas": null,
            "grid_template_columns": null,
            "grid_template_rows": null,
            "height": null,
            "justify_content": null,
            "justify_items": null,
            "left": null,
            "margin": null,
            "max_height": null,
            "max_width": null,
            "min_height": null,
            "min_width": null,
            "object_fit": null,
            "object_position": null,
            "order": null,
            "overflow": null,
            "overflow_x": null,
            "overflow_y": null,
            "padding": null,
            "right": null,
            "top": null,
            "visibility": null,
            "width": null
          }
        },
        "8a360d083d774d8e86dbbe539596dd2b": {
          "model_module": "@jupyter-widgets/controls",
          "model_name": "ProgressStyleModel",
          "model_module_version": "1.5.0",
          "state": {
            "_model_module": "@jupyter-widgets/controls",
            "_model_module_version": "1.5.0",
            "_model_name": "ProgressStyleModel",
            "_view_count": null,
            "_view_module": "@jupyter-widgets/base",
            "_view_module_version": "1.2.0",
            "_view_name": "StyleView",
            "bar_color": null,
            "description_width": ""
          }
        },
        "76faedcc550043c199b4ca103051c845": {
          "model_module": "@jupyter-widgets/base",
          "model_name": "LayoutModel",
          "model_module_version": "1.2.0",
          "state": {
            "_model_module": "@jupyter-widgets/base",
            "_model_module_version": "1.2.0",
            "_model_name": "LayoutModel",
            "_view_count": null,
            "_view_module": "@jupyter-widgets/base",
            "_view_module_version": "1.2.0",
            "_view_name": "LayoutView",
            "align_content": null,
            "align_items": null,
            "align_self": null,
            "border": null,
            "bottom": null,
            "display": null,
            "flex": null,
            "flex_flow": null,
            "grid_area": null,
            "grid_auto_columns": null,
            "grid_auto_flow": null,
            "grid_auto_rows": null,
            "grid_column": null,
            "grid_gap": null,
            "grid_row": null,
            "grid_template_areas": null,
            "grid_template_columns": null,
            "grid_template_rows": null,
            "height": null,
            "justify_content": null,
            "justify_items": null,
            "left": null,
            "margin": null,
            "max_height": null,
            "max_width": null,
            "min_height": null,
            "min_width": null,
            "object_fit": null,
            "object_position": null,
            "order": null,
            "overflow": null,
            "overflow_x": null,
            "overflow_y": null,
            "padding": null,
            "right": null,
            "top": null,
            "visibility": null,
            "width": null
          }
        },
        "edbca1cbd73d43ebafbda0607c81d608": {
          "model_module": "@jupyter-widgets/controls",
          "model_name": "DescriptionStyleModel",
          "model_module_version": "1.5.0",
          "state": {
            "_model_module": "@jupyter-widgets/controls",
            "_model_module_version": "1.5.0",
            "_model_name": "DescriptionStyleModel",
            "_view_count": null,
            "_view_module": "@jupyter-widgets/base",
            "_view_module_version": "1.2.0",
            "_view_name": "StyleView",
            "description_width": ""
          }
        },
        "50760b9b89a44e11a742650a65c3deda": {
          "model_module": "@jupyter-widgets/controls",
          "model_name": "HBoxModel",
          "model_module_version": "1.5.0",
          "state": {
            "_dom_classes": [],
            "_model_module": "@jupyter-widgets/controls",
            "_model_module_version": "1.5.0",
            "_model_name": "HBoxModel",
            "_view_count": null,
            "_view_module": "@jupyter-widgets/controls",
            "_view_module_version": "1.5.0",
            "_view_name": "HBoxView",
            "box_style": "",
            "children": [
              "IPY_MODEL_5b0ab45b24894eb3bf939df2556ca9fe",
              "IPY_MODEL_e2dcccaedea74eaaa6b744bff65df585",
              "IPY_MODEL_ed12419b791648d4b7c3d8543e9c6917"
            ],
            "layout": "IPY_MODEL_1bec2109e7f34cd497aeb3342ef72685"
          }
        },
        "5b0ab45b24894eb3bf939df2556ca9fe": {
          "model_module": "@jupyter-widgets/controls",
          "model_name": "HTMLModel",
          "model_module_version": "1.5.0",
          "state": {
            "_dom_classes": [],
            "_model_module": "@jupyter-widgets/controls",
            "_model_module_version": "1.5.0",
            "_model_name": "HTMLModel",
            "_view_count": null,
            "_view_module": "@jupyter-widgets/controls",
            "_view_module_version": "1.5.0",
            "_view_name": "HTMLView",
            "description": "",
            "description_tooltip": null,
            "layout": "IPY_MODEL_62ff48511dc74b199cb4cb5daed604a2",
            "placeholder": "​",
            "style": "IPY_MODEL_235a9eaccee244a48ab21884ca0c8ca2",
            "value": "Downloading data files: 100%"
          }
        },
        "e2dcccaedea74eaaa6b744bff65df585": {
          "model_module": "@jupyter-widgets/controls",
          "model_name": "FloatProgressModel",
          "model_module_version": "1.5.0",
          "state": {
            "_dom_classes": [],
            "_model_module": "@jupyter-widgets/controls",
            "_model_module_version": "1.5.0",
            "_model_name": "FloatProgressModel",
            "_view_count": null,
            "_view_module": "@jupyter-widgets/controls",
            "_view_module_version": "1.5.0",
            "_view_name": "ProgressView",
            "bar_style": "success",
            "description": "",
            "description_tooltip": null,
            "layout": "IPY_MODEL_fb14e7773a7547eab0a14148cfe9c65e",
            "max": 5607,
            "min": 0,
            "orientation": "horizontal",
            "style": "IPY_MODEL_bf4b03d3c73741eaa6201f1bb968d200",
            "value": 5607
          }
        },
        "ed12419b791648d4b7c3d8543e9c6917": {
          "model_module": "@jupyter-widgets/controls",
          "model_name": "HTMLModel",
          "model_module_version": "1.5.0",
          "state": {
            "_dom_classes": [],
            "_model_module": "@jupyter-widgets/controls",
            "_model_module_version": "1.5.0",
            "_model_name": "HTMLModel",
            "_view_count": null,
            "_view_module": "@jupyter-widgets/controls",
            "_view_module_version": "1.5.0",
            "_view_name": "HTMLView",
            "description": "",
            "description_tooltip": null,
            "layout": "IPY_MODEL_6b262553010547e9b2c645a37d5f1e20",
            "placeholder": "​",
            "style": "IPY_MODEL_8bcccd7ccdf846d9975e72f16a4af815",
            "value": " 5607/5607 [00:01&lt;00:00, 6083.16it/s]"
          }
        },
        "1bec2109e7f34cd497aeb3342ef72685": {
          "model_module": "@jupyter-widgets/base",
          "model_name": "LayoutModel",
          "model_module_version": "1.2.0",
          "state": {
            "_model_module": "@jupyter-widgets/base",
            "_model_module_version": "1.2.0",
            "_model_name": "LayoutModel",
            "_view_count": null,
            "_view_module": "@jupyter-widgets/base",
            "_view_module_version": "1.2.0",
            "_view_name": "LayoutView",
            "align_content": null,
            "align_items": null,
            "align_self": null,
            "border": null,
            "bottom": null,
            "display": null,
            "flex": null,
            "flex_flow": null,
            "grid_area": null,
            "grid_auto_columns": null,
            "grid_auto_flow": null,
            "grid_auto_rows": null,
            "grid_column": null,
            "grid_gap": null,
            "grid_row": null,
            "grid_template_areas": null,
            "grid_template_columns": null,
            "grid_template_rows": null,
            "height": null,
            "justify_content": null,
            "justify_items": null,
            "left": null,
            "margin": null,
            "max_height": null,
            "max_width": null,
            "min_height": null,
            "min_width": null,
            "object_fit": null,
            "object_position": null,
            "order": null,
            "overflow": null,
            "overflow_x": null,
            "overflow_y": null,
            "padding": null,
            "right": null,
            "top": null,
            "visibility": null,
            "width": null
          }
        },
        "62ff48511dc74b199cb4cb5daed604a2": {
          "model_module": "@jupyter-widgets/base",
          "model_name": "LayoutModel",
          "model_module_version": "1.2.0",
          "state": {
            "_model_module": "@jupyter-widgets/base",
            "_model_module_version": "1.2.0",
            "_model_name": "LayoutModel",
            "_view_count": null,
            "_view_module": "@jupyter-widgets/base",
            "_view_module_version": "1.2.0",
            "_view_name": "LayoutView",
            "align_content": null,
            "align_items": null,
            "align_self": null,
            "border": null,
            "bottom": null,
            "display": null,
            "flex": null,
            "flex_flow": null,
            "grid_area": null,
            "grid_auto_columns": null,
            "grid_auto_flow": null,
            "grid_auto_rows": null,
            "grid_column": null,
            "grid_gap": null,
            "grid_row": null,
            "grid_template_areas": null,
            "grid_template_columns": null,
            "grid_template_rows": null,
            "height": null,
            "justify_content": null,
            "justify_items": null,
            "left": null,
            "margin": null,
            "max_height": null,
            "max_width": null,
            "min_height": null,
            "min_width": null,
            "object_fit": null,
            "object_position": null,
            "order": null,
            "overflow": null,
            "overflow_x": null,
            "overflow_y": null,
            "padding": null,
            "right": null,
            "top": null,
            "visibility": null,
            "width": null
          }
        },
        "235a9eaccee244a48ab21884ca0c8ca2": {
          "model_module": "@jupyter-widgets/controls",
          "model_name": "DescriptionStyleModel",
          "model_module_version": "1.5.0",
          "state": {
            "_model_module": "@jupyter-widgets/controls",
            "_model_module_version": "1.5.0",
            "_model_name": "DescriptionStyleModel",
            "_view_count": null,
            "_view_module": "@jupyter-widgets/base",
            "_view_module_version": "1.2.0",
            "_view_name": "StyleView",
            "description_width": ""
          }
        },
        "fb14e7773a7547eab0a14148cfe9c65e": {
          "model_module": "@jupyter-widgets/base",
          "model_name": "LayoutModel",
          "model_module_version": "1.2.0",
          "state": {
            "_model_module": "@jupyter-widgets/base",
            "_model_module_version": "1.2.0",
            "_model_name": "LayoutModel",
            "_view_count": null,
            "_view_module": "@jupyter-widgets/base",
            "_view_module_version": "1.2.0",
            "_view_name": "LayoutView",
            "align_content": null,
            "align_items": null,
            "align_self": null,
            "border": null,
            "bottom": null,
            "display": null,
            "flex": null,
            "flex_flow": null,
            "grid_area": null,
            "grid_auto_columns": null,
            "grid_auto_flow": null,
            "grid_auto_rows": null,
            "grid_column": null,
            "grid_gap": null,
            "grid_row": null,
            "grid_template_areas": null,
            "grid_template_columns": null,
            "grid_template_rows": null,
            "height": null,
            "justify_content": null,
            "justify_items": null,
            "left": null,
            "margin": null,
            "max_height": null,
            "max_width": null,
            "min_height": null,
            "min_width": null,
            "object_fit": null,
            "object_position": null,
            "order": null,
            "overflow": null,
            "overflow_x": null,
            "overflow_y": null,
            "padding": null,
            "right": null,
            "top": null,
            "visibility": null,
            "width": null
          }
        },
        "bf4b03d3c73741eaa6201f1bb968d200": {
          "model_module": "@jupyter-widgets/controls",
          "model_name": "ProgressStyleModel",
          "model_module_version": "1.5.0",
          "state": {
            "_model_module": "@jupyter-widgets/controls",
            "_model_module_version": "1.5.0",
            "_model_name": "ProgressStyleModel",
            "_view_count": null,
            "_view_module": "@jupyter-widgets/base",
            "_view_module_version": "1.2.0",
            "_view_name": "StyleView",
            "bar_color": null,
            "description_width": ""
          }
        },
        "6b262553010547e9b2c645a37d5f1e20": {
          "model_module": "@jupyter-widgets/base",
          "model_name": "LayoutModel",
          "model_module_version": "1.2.0",
          "state": {
            "_model_module": "@jupyter-widgets/base",
            "_model_module_version": "1.2.0",
            "_model_name": "LayoutModel",
            "_view_count": null,
            "_view_module": "@jupyter-widgets/base",
            "_view_module_version": "1.2.0",
            "_view_name": "LayoutView",
            "align_content": null,
            "align_items": null,
            "align_self": null,
            "border": null,
            "bottom": null,
            "display": null,
            "flex": null,
            "flex_flow": null,
            "grid_area": null,
            "grid_auto_columns": null,
            "grid_auto_flow": null,
            "grid_auto_rows": null,
            "grid_column": null,
            "grid_gap": null,
            "grid_row": null,
            "grid_template_areas": null,
            "grid_template_columns": null,
            "grid_template_rows": null,
            "height": null,
            "justify_content": null,
            "justify_items": null,
            "left": null,
            "margin": null,
            "max_height": null,
            "max_width": null,
            "min_height": null,
            "min_width": null,
            "object_fit": null,
            "object_position": null,
            "order": null,
            "overflow": null,
            "overflow_x": null,
            "overflow_y": null,
            "padding": null,
            "right": null,
            "top": null,
            "visibility": null,
            "width": null
          }
        },
        "8bcccd7ccdf846d9975e72f16a4af815": {
          "model_module": "@jupyter-widgets/controls",
          "model_name": "DescriptionStyleModel",
          "model_module_version": "1.5.0",
          "state": {
            "_model_module": "@jupyter-widgets/controls",
            "_model_module_version": "1.5.0",
            "_model_name": "DescriptionStyleModel",
            "_view_count": null,
            "_view_module": "@jupyter-widgets/base",
            "_view_module_version": "1.2.0",
            "_view_name": "StyleView",
            "description_width": ""
          }
        },
        "ce866949071c426ea84f382782c55f9e": {
          "model_module": "@jupyter-widgets/controls",
          "model_name": "HBoxModel",
          "model_module_version": "1.5.0",
          "state": {
            "_dom_classes": [],
            "_model_module": "@jupyter-widgets/controls",
            "_model_module_version": "1.5.0",
            "_model_name": "HBoxModel",
            "_view_count": null,
            "_view_module": "@jupyter-widgets/controls",
            "_view_module_version": "1.5.0",
            "_view_name": "HBoxView",
            "box_style": "",
            "children": [
              "IPY_MODEL_ea9f283c69384a0a963ad3332151bb15",
              "IPY_MODEL_373e5b96d21e4471a37c5e865f49619a",
              "IPY_MODEL_625b3ee3874a4492b8d0883232520e8d"
            ],
            "layout": "IPY_MODEL_1d3fcd8bca234e9082f19a5eca27fa34"
          }
        },
        "ea9f283c69384a0a963ad3332151bb15": {
          "model_module": "@jupyter-widgets/controls",
          "model_name": "HTMLModel",
          "model_module_version": "1.5.0",
          "state": {
            "_dom_classes": [],
            "_model_module": "@jupyter-widgets/controls",
            "_model_module_version": "1.5.0",
            "_model_name": "HTMLModel",
            "_view_count": null,
            "_view_module": "@jupyter-widgets/controls",
            "_view_module_version": "1.5.0",
            "_view_name": "HTMLView",
            "description": "",
            "description_tooltip": null,
            "layout": "IPY_MODEL_50e644b45242492aadec88917d7ba1f7",
            "placeholder": "​",
            "style": "IPY_MODEL_9fd3d49e9c0f40f3a28d4398850f8619",
            "value": "Downloading data files: "
          }
        },
        "373e5b96d21e4471a37c5e865f49619a": {
          "model_module": "@jupyter-widgets/controls",
          "model_name": "FloatProgressModel",
          "model_module_version": "1.5.0",
          "state": {
            "_dom_classes": [],
            "_model_module": "@jupyter-widgets/controls",
            "_model_module_version": "1.5.0",
            "_model_name": "FloatProgressModel",
            "_view_count": null,
            "_view_module": "@jupyter-widgets/controls",
            "_view_module_version": "1.5.0",
            "_view_name": "ProgressView",
            "bar_style": "success",
            "description": "",
            "description_tooltip": null,
            "layout": "IPY_MODEL_4c683a2943234a9a991b95549b3d3c1f",
            "max": 1,
            "min": 0,
            "orientation": "horizontal",
            "style": "IPY_MODEL_2be8565dfab54bd18e1daf68125de7fd",
            "value": 0
          }
        },
        "625b3ee3874a4492b8d0883232520e8d": {
          "model_module": "@jupyter-widgets/controls",
          "model_name": "HTMLModel",
          "model_module_version": "1.5.0",
          "state": {
            "_dom_classes": [],
            "_model_module": "@jupyter-widgets/controls",
            "_model_module_version": "1.5.0",
            "_model_name": "HTMLModel",
            "_view_count": null,
            "_view_module": "@jupyter-widgets/controls",
            "_view_module_version": "1.5.0",
            "_view_name": "HTMLView",
            "description": "",
            "description_tooltip": null,
            "layout": "IPY_MODEL_08b79ad177cb4385b2d28471844ee3cd",
            "placeholder": "​",
            "style": "IPY_MODEL_b756a3eda5364a96b44634b7c72c6e26",
            "value": " 0/0 [00:00&lt;?, ?it/s]"
          }
        },
        "1d3fcd8bca234e9082f19a5eca27fa34": {
          "model_module": "@jupyter-widgets/base",
          "model_name": "LayoutModel",
          "model_module_version": "1.2.0",
          "state": {
            "_model_module": "@jupyter-widgets/base",
            "_model_module_version": "1.2.0",
            "_model_name": "LayoutModel",
            "_view_count": null,
            "_view_module": "@jupyter-widgets/base",
            "_view_module_version": "1.2.0",
            "_view_name": "LayoutView",
            "align_content": null,
            "align_items": null,
            "align_self": null,
            "border": null,
            "bottom": null,
            "display": null,
            "flex": null,
            "flex_flow": null,
            "grid_area": null,
            "grid_auto_columns": null,
            "grid_auto_flow": null,
            "grid_auto_rows": null,
            "grid_column": null,
            "grid_gap": null,
            "grid_row": null,
            "grid_template_areas": null,
            "grid_template_columns": null,
            "grid_template_rows": null,
            "height": null,
            "justify_content": null,
            "justify_items": null,
            "left": null,
            "margin": null,
            "max_height": null,
            "max_width": null,
            "min_height": null,
            "min_width": null,
            "object_fit": null,
            "object_position": null,
            "order": null,
            "overflow": null,
            "overflow_x": null,
            "overflow_y": null,
            "padding": null,
            "right": null,
            "top": null,
            "visibility": null,
            "width": null
          }
        },
        "50e644b45242492aadec88917d7ba1f7": {
          "model_module": "@jupyter-widgets/base",
          "model_name": "LayoutModel",
          "model_module_version": "1.2.0",
          "state": {
            "_model_module": "@jupyter-widgets/base",
            "_model_module_version": "1.2.0",
            "_model_name": "LayoutModel",
            "_view_count": null,
            "_view_module": "@jupyter-widgets/base",
            "_view_module_version": "1.2.0",
            "_view_name": "LayoutView",
            "align_content": null,
            "align_items": null,
            "align_self": null,
            "border": null,
            "bottom": null,
            "display": null,
            "flex": null,
            "flex_flow": null,
            "grid_area": null,
            "grid_auto_columns": null,
            "grid_auto_flow": null,
            "grid_auto_rows": null,
            "grid_column": null,
            "grid_gap": null,
            "grid_row": null,
            "grid_template_areas": null,
            "grid_template_columns": null,
            "grid_template_rows": null,
            "height": null,
            "justify_content": null,
            "justify_items": null,
            "left": null,
            "margin": null,
            "max_height": null,
            "max_width": null,
            "min_height": null,
            "min_width": null,
            "object_fit": null,
            "object_position": null,
            "order": null,
            "overflow": null,
            "overflow_x": null,
            "overflow_y": null,
            "padding": null,
            "right": null,
            "top": null,
            "visibility": null,
            "width": null
          }
        },
        "9fd3d49e9c0f40f3a28d4398850f8619": {
          "model_module": "@jupyter-widgets/controls",
          "model_name": "DescriptionStyleModel",
          "model_module_version": "1.5.0",
          "state": {
            "_model_module": "@jupyter-widgets/controls",
            "_model_module_version": "1.5.0",
            "_model_name": "DescriptionStyleModel",
            "_view_count": null,
            "_view_module": "@jupyter-widgets/base",
            "_view_module_version": "1.2.0",
            "_view_name": "StyleView",
            "description_width": ""
          }
        },
        "4c683a2943234a9a991b95549b3d3c1f": {
          "model_module": "@jupyter-widgets/base",
          "model_name": "LayoutModel",
          "model_module_version": "1.2.0",
          "state": {
            "_model_module": "@jupyter-widgets/base",
            "_model_module_version": "1.2.0",
            "_model_name": "LayoutModel",
            "_view_count": null,
            "_view_module": "@jupyter-widgets/base",
            "_view_module_version": "1.2.0",
            "_view_name": "LayoutView",
            "align_content": null,
            "align_items": null,
            "align_self": null,
            "border": null,
            "bottom": null,
            "display": null,
            "flex": null,
            "flex_flow": null,
            "grid_area": null,
            "grid_auto_columns": null,
            "grid_auto_flow": null,
            "grid_auto_rows": null,
            "grid_column": null,
            "grid_gap": null,
            "grid_row": null,
            "grid_template_areas": null,
            "grid_template_columns": null,
            "grid_template_rows": null,
            "height": null,
            "justify_content": null,
            "justify_items": null,
            "left": null,
            "margin": null,
            "max_height": null,
            "max_width": null,
            "min_height": null,
            "min_width": null,
            "object_fit": null,
            "object_position": null,
            "order": null,
            "overflow": null,
            "overflow_x": null,
            "overflow_y": null,
            "padding": null,
            "right": null,
            "top": null,
            "visibility": null,
            "width": "20px"
          }
        },
        "2be8565dfab54bd18e1daf68125de7fd": {
          "model_module": "@jupyter-widgets/controls",
          "model_name": "ProgressStyleModel",
          "model_module_version": "1.5.0",
          "state": {
            "_model_module": "@jupyter-widgets/controls",
            "_model_module_version": "1.5.0",
            "_model_name": "ProgressStyleModel",
            "_view_count": null,
            "_view_module": "@jupyter-widgets/base",
            "_view_module_version": "1.2.0",
            "_view_name": "StyleView",
            "bar_color": null,
            "description_width": ""
          }
        },
        "08b79ad177cb4385b2d28471844ee3cd": {
          "model_module": "@jupyter-widgets/base",
          "model_name": "LayoutModel",
          "model_module_version": "1.2.0",
          "state": {
            "_model_module": "@jupyter-widgets/base",
            "_model_module_version": "1.2.0",
            "_model_name": "LayoutModel",
            "_view_count": null,
            "_view_module": "@jupyter-widgets/base",
            "_view_module_version": "1.2.0",
            "_view_name": "LayoutView",
            "align_content": null,
            "align_items": null,
            "align_self": null,
            "border": null,
            "bottom": null,
            "display": null,
            "flex": null,
            "flex_flow": null,
            "grid_area": null,
            "grid_auto_columns": null,
            "grid_auto_flow": null,
            "grid_auto_rows": null,
            "grid_column": null,
            "grid_gap": null,
            "grid_row": null,
            "grid_template_areas": null,
            "grid_template_columns": null,
            "grid_template_rows": null,
            "height": null,
            "justify_content": null,
            "justify_items": null,
            "left": null,
            "margin": null,
            "max_height": null,
            "max_width": null,
            "min_height": null,
            "min_width": null,
            "object_fit": null,
            "object_position": null,
            "order": null,
            "overflow": null,
            "overflow_x": null,
            "overflow_y": null,
            "padding": null,
            "right": null,
            "top": null,
            "visibility": null,
            "width": null
          }
        },
        "b756a3eda5364a96b44634b7c72c6e26": {
          "model_module": "@jupyter-widgets/controls",
          "model_name": "DescriptionStyleModel",
          "model_module_version": "1.5.0",
          "state": {
            "_model_module": "@jupyter-widgets/controls",
            "_model_module_version": "1.5.0",
            "_model_name": "DescriptionStyleModel",
            "_view_count": null,
            "_view_module": "@jupyter-widgets/base",
            "_view_module_version": "1.2.0",
            "_view_name": "StyleView",
            "description_width": ""
          }
        },
        "22517e644ef0450a88c84da600526d7d": {
          "model_module": "@jupyter-widgets/controls",
          "model_name": "HBoxModel",
          "model_module_version": "1.5.0",
          "state": {
            "_dom_classes": [],
            "_model_module": "@jupyter-widgets/controls",
            "_model_module_version": "1.5.0",
            "_model_name": "HBoxModel",
            "_view_count": null,
            "_view_module": "@jupyter-widgets/controls",
            "_view_module_version": "1.5.0",
            "_view_name": "HBoxView",
            "box_style": "",
            "children": [
              "IPY_MODEL_d8bf89489e1a4f55ba6680fafce63fe7",
              "IPY_MODEL_018876b2c3d7437b8a4614ad69764037",
              "IPY_MODEL_f3409b5a5df540c98b223495f2da7257"
            ],
            "layout": "IPY_MODEL_0824696074bf4459a8c3d57522149453"
          }
        },
        "d8bf89489e1a4f55ba6680fafce63fe7": {
          "model_module": "@jupyter-widgets/controls",
          "model_name": "HTMLModel",
          "model_module_version": "1.5.0",
          "state": {
            "_dom_classes": [],
            "_model_module": "@jupyter-widgets/controls",
            "_model_module_version": "1.5.0",
            "_model_name": "HTMLModel",
            "_view_count": null,
            "_view_module": "@jupyter-widgets/controls",
            "_view_module_version": "1.5.0",
            "_view_name": "HTMLView",
            "description": "",
            "description_tooltip": null,
            "layout": "IPY_MODEL_dbee0478eff34c379c42c0c5410596fe",
            "placeholder": "​",
            "style": "IPY_MODEL_a8e531f20fdc4406a8c27104aabca8d3",
            "value": "Extracting data files: "
          }
        },
        "018876b2c3d7437b8a4614ad69764037": {
          "model_module": "@jupyter-widgets/controls",
          "model_name": "FloatProgressModel",
          "model_module_version": "1.5.0",
          "state": {
            "_dom_classes": [],
            "_model_module": "@jupyter-widgets/controls",
            "_model_module_version": "1.5.0",
            "_model_name": "FloatProgressModel",
            "_view_count": null,
            "_view_module": "@jupyter-widgets/controls",
            "_view_module_version": "1.5.0",
            "_view_name": "ProgressView",
            "bar_style": "success",
            "description": "",
            "description_tooltip": null,
            "layout": "IPY_MODEL_4d4f695114774db3a38cb76931547799",
            "max": 1,
            "min": 0,
            "orientation": "horizontal",
            "style": "IPY_MODEL_ce0f0877d3e64a18b4277db8ad779120",
            "value": 0
          }
        },
        "f3409b5a5df540c98b223495f2da7257": {
          "model_module": "@jupyter-widgets/controls",
          "model_name": "HTMLModel",
          "model_module_version": "1.5.0",
          "state": {
            "_dom_classes": [],
            "_model_module": "@jupyter-widgets/controls",
            "_model_module_version": "1.5.0",
            "_model_name": "HTMLModel",
            "_view_count": null,
            "_view_module": "@jupyter-widgets/controls",
            "_view_module_version": "1.5.0",
            "_view_name": "HTMLView",
            "description": "",
            "description_tooltip": null,
            "layout": "IPY_MODEL_37f118a654d449a386b2cace1ef0909c",
            "placeholder": "​",
            "style": "IPY_MODEL_43b1387ed6a840cf9235bcaea800e676",
            "value": " 0/0 [00:00&lt;?, ?it/s]"
          }
        },
        "0824696074bf4459a8c3d57522149453": {
          "model_module": "@jupyter-widgets/base",
          "model_name": "LayoutModel",
          "model_module_version": "1.2.0",
          "state": {
            "_model_module": "@jupyter-widgets/base",
            "_model_module_version": "1.2.0",
            "_model_name": "LayoutModel",
            "_view_count": null,
            "_view_module": "@jupyter-widgets/base",
            "_view_module_version": "1.2.0",
            "_view_name": "LayoutView",
            "align_content": null,
            "align_items": null,
            "align_self": null,
            "border": null,
            "bottom": null,
            "display": null,
            "flex": null,
            "flex_flow": null,
            "grid_area": null,
            "grid_auto_columns": null,
            "grid_auto_flow": null,
            "grid_auto_rows": null,
            "grid_column": null,
            "grid_gap": null,
            "grid_row": null,
            "grid_template_areas": null,
            "grid_template_columns": null,
            "grid_template_rows": null,
            "height": null,
            "justify_content": null,
            "justify_items": null,
            "left": null,
            "margin": null,
            "max_height": null,
            "max_width": null,
            "min_height": null,
            "min_width": null,
            "object_fit": null,
            "object_position": null,
            "order": null,
            "overflow": null,
            "overflow_x": null,
            "overflow_y": null,
            "padding": null,
            "right": null,
            "top": null,
            "visibility": null,
            "width": null
          }
        },
        "dbee0478eff34c379c42c0c5410596fe": {
          "model_module": "@jupyter-widgets/base",
          "model_name": "LayoutModel",
          "model_module_version": "1.2.0",
          "state": {
            "_model_module": "@jupyter-widgets/base",
            "_model_module_version": "1.2.0",
            "_model_name": "LayoutModel",
            "_view_count": null,
            "_view_module": "@jupyter-widgets/base",
            "_view_module_version": "1.2.0",
            "_view_name": "LayoutView",
            "align_content": null,
            "align_items": null,
            "align_self": null,
            "border": null,
            "bottom": null,
            "display": null,
            "flex": null,
            "flex_flow": null,
            "grid_area": null,
            "grid_auto_columns": null,
            "grid_auto_flow": null,
            "grid_auto_rows": null,
            "grid_column": null,
            "grid_gap": null,
            "grid_row": null,
            "grid_template_areas": null,
            "grid_template_columns": null,
            "grid_template_rows": null,
            "height": null,
            "justify_content": null,
            "justify_items": null,
            "left": null,
            "margin": null,
            "max_height": null,
            "max_width": null,
            "min_height": null,
            "min_width": null,
            "object_fit": null,
            "object_position": null,
            "order": null,
            "overflow": null,
            "overflow_x": null,
            "overflow_y": null,
            "padding": null,
            "right": null,
            "top": null,
            "visibility": null,
            "width": null
          }
        },
        "a8e531f20fdc4406a8c27104aabca8d3": {
          "model_module": "@jupyter-widgets/controls",
          "model_name": "DescriptionStyleModel",
          "model_module_version": "1.5.0",
          "state": {
            "_model_module": "@jupyter-widgets/controls",
            "_model_module_version": "1.5.0",
            "_model_name": "DescriptionStyleModel",
            "_view_count": null,
            "_view_module": "@jupyter-widgets/base",
            "_view_module_version": "1.2.0",
            "_view_name": "StyleView",
            "description_width": ""
          }
        },
        "4d4f695114774db3a38cb76931547799": {
          "model_module": "@jupyter-widgets/base",
          "model_name": "LayoutModel",
          "model_module_version": "1.2.0",
          "state": {
            "_model_module": "@jupyter-widgets/base",
            "_model_module_version": "1.2.0",
            "_model_name": "LayoutModel",
            "_view_count": null,
            "_view_module": "@jupyter-widgets/base",
            "_view_module_version": "1.2.0",
            "_view_name": "LayoutView",
            "align_content": null,
            "align_items": null,
            "align_self": null,
            "border": null,
            "bottom": null,
            "display": null,
            "flex": null,
            "flex_flow": null,
            "grid_area": null,
            "grid_auto_columns": null,
            "grid_auto_flow": null,
            "grid_auto_rows": null,
            "grid_column": null,
            "grid_gap": null,
            "grid_row": null,
            "grid_template_areas": null,
            "grid_template_columns": null,
            "grid_template_rows": null,
            "height": null,
            "justify_content": null,
            "justify_items": null,
            "left": null,
            "margin": null,
            "max_height": null,
            "max_width": null,
            "min_height": null,
            "min_width": null,
            "object_fit": null,
            "object_position": null,
            "order": null,
            "overflow": null,
            "overflow_x": null,
            "overflow_y": null,
            "padding": null,
            "right": null,
            "top": null,
            "visibility": null,
            "width": "20px"
          }
        },
        "ce0f0877d3e64a18b4277db8ad779120": {
          "model_module": "@jupyter-widgets/controls",
          "model_name": "ProgressStyleModel",
          "model_module_version": "1.5.0",
          "state": {
            "_model_module": "@jupyter-widgets/controls",
            "_model_module_version": "1.5.0",
            "_model_name": "ProgressStyleModel",
            "_view_count": null,
            "_view_module": "@jupyter-widgets/base",
            "_view_module_version": "1.2.0",
            "_view_name": "StyleView",
            "bar_color": null,
            "description_width": ""
          }
        },
        "37f118a654d449a386b2cace1ef0909c": {
          "model_module": "@jupyter-widgets/base",
          "model_name": "LayoutModel",
          "model_module_version": "1.2.0",
          "state": {
            "_model_module": "@jupyter-widgets/base",
            "_model_module_version": "1.2.0",
            "_model_name": "LayoutModel",
            "_view_count": null,
            "_view_module": "@jupyter-widgets/base",
            "_view_module_version": "1.2.0",
            "_view_name": "LayoutView",
            "align_content": null,
            "align_items": null,
            "align_self": null,
            "border": null,
            "bottom": null,
            "display": null,
            "flex": null,
            "flex_flow": null,
            "grid_area": null,
            "grid_auto_columns": null,
            "grid_auto_flow": null,
            "grid_auto_rows": null,
            "grid_column": null,
            "grid_gap": null,
            "grid_row": null,
            "grid_template_areas": null,
            "grid_template_columns": null,
            "grid_template_rows": null,
            "height": null,
            "justify_content": null,
            "justify_items": null,
            "left": null,
            "margin": null,
            "max_height": null,
            "max_width": null,
            "min_height": null,
            "min_width": null,
            "object_fit": null,
            "object_position": null,
            "order": null,
            "overflow": null,
            "overflow_x": null,
            "overflow_y": null,
            "padding": null,
            "right": null,
            "top": null,
            "visibility": null,
            "width": null
          }
        },
        "43b1387ed6a840cf9235bcaea800e676": {
          "model_module": "@jupyter-widgets/controls",
          "model_name": "DescriptionStyleModel",
          "model_module_version": "1.5.0",
          "state": {
            "_model_module": "@jupyter-widgets/controls",
            "_model_module_version": "1.5.0",
            "_model_name": "DescriptionStyleModel",
            "_view_count": null,
            "_view_module": "@jupyter-widgets/base",
            "_view_module_version": "1.2.0",
            "_view_name": "StyleView",
            "description_width": ""
          }
        },
        "8303cb2b69364f9aaa434c784f67146f": {
          "model_module": "@jupyter-widgets/controls",
          "model_name": "HBoxModel",
          "model_module_version": "1.5.0",
          "state": {
            "_dom_classes": [],
            "_model_module": "@jupyter-widgets/controls",
            "_model_module_version": "1.5.0",
            "_model_name": "HBoxModel",
            "_view_count": null,
            "_view_module": "@jupyter-widgets/controls",
            "_view_module_version": "1.5.0",
            "_view_name": "HBoxView",
            "box_style": "",
            "children": [
              "IPY_MODEL_f2744c6e0f42493ea74a110b618b507c",
              "IPY_MODEL_909eeb29244e457982201c36cdc5ec88",
              "IPY_MODEL_c0cf54fa525041738f197745dab65225"
            ],
            "layout": "IPY_MODEL_981f333dcefc4476876a499432f54e5f"
          }
        },
        "f2744c6e0f42493ea74a110b618b507c": {
          "model_module": "@jupyter-widgets/controls",
          "model_name": "HTMLModel",
          "model_module_version": "1.5.0",
          "state": {
            "_dom_classes": [],
            "_model_module": "@jupyter-widgets/controls",
            "_model_module_version": "1.5.0",
            "_model_name": "HTMLModel",
            "_view_count": null,
            "_view_module": "@jupyter-widgets/controls",
            "_view_module_version": "1.5.0",
            "_view_name": "HTMLView",
            "description": "",
            "description_tooltip": null,
            "layout": "IPY_MODEL_a84e3e4f345a4b1d93e39afdd5880cc1",
            "placeholder": "​",
            "style": "IPY_MODEL_56787906879240a18457c9c30250fcbb",
            "value": "Generating train split: "
          }
        },
        "909eeb29244e457982201c36cdc5ec88": {
          "model_module": "@jupyter-widgets/controls",
          "model_name": "FloatProgressModel",
          "model_module_version": "1.5.0",
          "state": {
            "_dom_classes": [],
            "_model_module": "@jupyter-widgets/controls",
            "_model_module_version": "1.5.0",
            "_model_name": "FloatProgressModel",
            "_view_count": null,
            "_view_module": "@jupyter-widgets/controls",
            "_view_module_version": "1.5.0",
            "_view_name": "ProgressView",
            "bar_style": "success",
            "description": "",
            "description_tooltip": null,
            "layout": "IPY_MODEL_0951957d1bbf4f81a86f4f1d3e5981be",
            "max": 1,
            "min": 0,
            "orientation": "horizontal",
            "style": "IPY_MODEL_a75ea175b323457785d7d4ba9fc377f4",
            "value": 1
          }
        },
        "c0cf54fa525041738f197745dab65225": {
          "model_module": "@jupyter-widgets/controls",
          "model_name": "HTMLModel",
          "model_module_version": "1.5.0",
          "state": {
            "_dom_classes": [],
            "_model_module": "@jupyter-widgets/controls",
            "_model_module_version": "1.5.0",
            "_model_name": "HTMLModel",
            "_view_count": null,
            "_view_module": "@jupyter-widgets/controls",
            "_view_module_version": "1.5.0",
            "_view_name": "HTMLView",
            "description": "",
            "description_tooltip": null,
            "layout": "IPY_MODEL_081b711c0c654c78b841115bc9e0c2e0",
            "placeholder": "​",
            "style": "IPY_MODEL_5a55aa1599784c75998c4ef432617c4d",
            "value": " 5606/0 [00:01&lt;00:00, 3767.27 examples/s]"
          }
        },
        "981f333dcefc4476876a499432f54e5f": {
          "model_module": "@jupyter-widgets/base",
          "model_name": "LayoutModel",
          "model_module_version": "1.2.0",
          "state": {
            "_model_module": "@jupyter-widgets/base",
            "_model_module_version": "1.2.0",
            "_model_name": "LayoutModel",
            "_view_count": null,
            "_view_module": "@jupyter-widgets/base",
            "_view_module_version": "1.2.0",
            "_view_name": "LayoutView",
            "align_content": null,
            "align_items": null,
            "align_self": null,
            "border": null,
            "bottom": null,
            "display": null,
            "flex": null,
            "flex_flow": null,
            "grid_area": null,
            "grid_auto_columns": null,
            "grid_auto_flow": null,
            "grid_auto_rows": null,
            "grid_column": null,
            "grid_gap": null,
            "grid_row": null,
            "grid_template_areas": null,
            "grid_template_columns": null,
            "grid_template_rows": null,
            "height": null,
            "justify_content": null,
            "justify_items": null,
            "left": null,
            "margin": null,
            "max_height": null,
            "max_width": null,
            "min_height": null,
            "min_width": null,
            "object_fit": null,
            "object_position": null,
            "order": null,
            "overflow": null,
            "overflow_x": null,
            "overflow_y": null,
            "padding": null,
            "right": null,
            "top": null,
            "visibility": null,
            "width": null
          }
        },
        "a84e3e4f345a4b1d93e39afdd5880cc1": {
          "model_module": "@jupyter-widgets/base",
          "model_name": "LayoutModel",
          "model_module_version": "1.2.0",
          "state": {
            "_model_module": "@jupyter-widgets/base",
            "_model_module_version": "1.2.0",
            "_model_name": "LayoutModel",
            "_view_count": null,
            "_view_module": "@jupyter-widgets/base",
            "_view_module_version": "1.2.0",
            "_view_name": "LayoutView",
            "align_content": null,
            "align_items": null,
            "align_self": null,
            "border": null,
            "bottom": null,
            "display": null,
            "flex": null,
            "flex_flow": null,
            "grid_area": null,
            "grid_auto_columns": null,
            "grid_auto_flow": null,
            "grid_auto_rows": null,
            "grid_column": null,
            "grid_gap": null,
            "grid_row": null,
            "grid_template_areas": null,
            "grid_template_columns": null,
            "grid_template_rows": null,
            "height": null,
            "justify_content": null,
            "justify_items": null,
            "left": null,
            "margin": null,
            "max_height": null,
            "max_width": null,
            "min_height": null,
            "min_width": null,
            "object_fit": null,
            "object_position": null,
            "order": null,
            "overflow": null,
            "overflow_x": null,
            "overflow_y": null,
            "padding": null,
            "right": null,
            "top": null,
            "visibility": null,
            "width": null
          }
        },
        "56787906879240a18457c9c30250fcbb": {
          "model_module": "@jupyter-widgets/controls",
          "model_name": "DescriptionStyleModel",
          "model_module_version": "1.5.0",
          "state": {
            "_model_module": "@jupyter-widgets/controls",
            "_model_module_version": "1.5.0",
            "_model_name": "DescriptionStyleModel",
            "_view_count": null,
            "_view_module": "@jupyter-widgets/base",
            "_view_module_version": "1.2.0",
            "_view_name": "StyleView",
            "description_width": ""
          }
        },
        "0951957d1bbf4f81a86f4f1d3e5981be": {
          "model_module": "@jupyter-widgets/base",
          "model_name": "LayoutModel",
          "model_module_version": "1.2.0",
          "state": {
            "_model_module": "@jupyter-widgets/base",
            "_model_module_version": "1.2.0",
            "_model_name": "LayoutModel",
            "_view_count": null,
            "_view_module": "@jupyter-widgets/base",
            "_view_module_version": "1.2.0",
            "_view_name": "LayoutView",
            "align_content": null,
            "align_items": null,
            "align_self": null,
            "border": null,
            "bottom": null,
            "display": null,
            "flex": null,
            "flex_flow": null,
            "grid_area": null,
            "grid_auto_columns": null,
            "grid_auto_flow": null,
            "grid_auto_rows": null,
            "grid_column": null,
            "grid_gap": null,
            "grid_row": null,
            "grid_template_areas": null,
            "grid_template_columns": null,
            "grid_template_rows": null,
            "height": null,
            "justify_content": null,
            "justify_items": null,
            "left": null,
            "margin": null,
            "max_height": null,
            "max_width": null,
            "min_height": null,
            "min_width": null,
            "object_fit": null,
            "object_position": null,
            "order": null,
            "overflow": null,
            "overflow_x": null,
            "overflow_y": null,
            "padding": null,
            "right": null,
            "top": null,
            "visibility": null,
            "width": "20px"
          }
        },
        "a75ea175b323457785d7d4ba9fc377f4": {
          "model_module": "@jupyter-widgets/controls",
          "model_name": "ProgressStyleModel",
          "model_module_version": "1.5.0",
          "state": {
            "_model_module": "@jupyter-widgets/controls",
            "_model_module_version": "1.5.0",
            "_model_name": "ProgressStyleModel",
            "_view_count": null,
            "_view_module": "@jupyter-widgets/base",
            "_view_module_version": "1.2.0",
            "_view_name": "StyleView",
            "bar_color": null,
            "description_width": ""
          }
        },
        "081b711c0c654c78b841115bc9e0c2e0": {
          "model_module": "@jupyter-widgets/base",
          "model_name": "LayoutModel",
          "model_module_version": "1.2.0",
          "state": {
            "_model_module": "@jupyter-widgets/base",
            "_model_module_version": "1.2.0",
            "_model_name": "LayoutModel",
            "_view_count": null,
            "_view_module": "@jupyter-widgets/base",
            "_view_module_version": "1.2.0",
            "_view_name": "LayoutView",
            "align_content": null,
            "align_items": null,
            "align_self": null,
            "border": null,
            "bottom": null,
            "display": null,
            "flex": null,
            "flex_flow": null,
            "grid_area": null,
            "grid_auto_columns": null,
            "grid_auto_flow": null,
            "grid_auto_rows": null,
            "grid_column": null,
            "grid_gap": null,
            "grid_row": null,
            "grid_template_areas": null,
            "grid_template_columns": null,
            "grid_template_rows": null,
            "height": null,
            "justify_content": null,
            "justify_items": null,
            "left": null,
            "margin": null,
            "max_height": null,
            "max_width": null,
            "min_height": null,
            "min_width": null,
            "object_fit": null,
            "object_position": null,
            "order": null,
            "overflow": null,
            "overflow_x": null,
            "overflow_y": null,
            "padding": null,
            "right": null,
            "top": null,
            "visibility": null,
            "width": null
          }
        },
        "5a55aa1599784c75998c4ef432617c4d": {
          "model_module": "@jupyter-widgets/controls",
          "model_name": "DescriptionStyleModel",
          "model_module_version": "1.5.0",
          "state": {
            "_model_module": "@jupyter-widgets/controls",
            "_model_module_version": "1.5.0",
            "_model_name": "DescriptionStyleModel",
            "_view_count": null,
            "_view_module": "@jupyter-widgets/base",
            "_view_module_version": "1.2.0",
            "_view_name": "StyleView",
            "description_width": ""
          }
        }
      }
    }
  },
  "cells": [
    {
      "cell_type": "markdown",
      "source": [
        "# Imports"
      ],
      "metadata": {
        "id": "VOjcqJBL522w"
      }
    },
    {
      "cell_type": "code",
      "execution_count": null,
      "metadata": {
        "id": "PhEmFtPVRnXv",
        "colab": {
          "base_uri": "https://localhost:8080/"
        },
        "outputId": "48864eb0-87bb-4312-98ee-cdaca84d8e71"
      },
      "outputs": [
        {
          "output_type": "stream",
          "name": "stdout",
          "text": [
            "Collecting datasets\n",
            "  Downloading datasets-2.14.5-py3-none-any.whl (519 kB)\n",
            "\u001b[2K     \u001b[90m━━━━━━━━━━━━━━━━━━━━━━━━━━━━━━━━━━━━━━━\u001b[0m \u001b[32m519.6/519.6 kB\u001b[0m \u001b[31m3.8 MB/s\u001b[0m eta \u001b[36m0:00:00\u001b[0m\n",
            "\u001b[?25hCollecting evaluate\n",
            "  Downloading evaluate-0.4.0-py3-none-any.whl (81 kB)\n",
            "\u001b[2K     \u001b[90m━━━━━━━━━━━━━━━━━━━━━━━━━━━━━━━━━━━━━━━━\u001b[0m \u001b[32m81.4/81.4 kB\u001b[0m \u001b[31m8.4 MB/s\u001b[0m eta \u001b[36m0:00:00\u001b[0m\n",
            "\u001b[?25hRequirement already satisfied: numpy>=1.17 in /usr/local/lib/python3.10/dist-packages (from datasets) (1.23.5)\n",
            "Requirement already satisfied: pyarrow>=8.0.0 in /usr/local/lib/python3.10/dist-packages (from datasets) (9.0.0)\n",
            "Collecting dill<0.3.8,>=0.3.0 (from datasets)\n",
            "  Downloading dill-0.3.7-py3-none-any.whl (115 kB)\n",
            "\u001b[2K     \u001b[90m━━━━━━━━━━━━━━━━━━━━━━━━━━━━━━━━━━━━━━━\u001b[0m \u001b[32m115.3/115.3 kB\u001b[0m \u001b[31m8.3 MB/s\u001b[0m eta \u001b[36m0:00:00\u001b[0m\n",
            "\u001b[?25hRequirement already satisfied: pandas in /usr/local/lib/python3.10/dist-packages (from datasets) (1.5.3)\n",
            "Requirement already satisfied: requests>=2.19.0 in /usr/local/lib/python3.10/dist-packages (from datasets) (2.31.0)\n",
            "Requirement already satisfied: tqdm>=4.62.1 in /usr/local/lib/python3.10/dist-packages (from datasets) (4.66.1)\n",
            "Collecting xxhash (from datasets)\n",
            "  Downloading xxhash-3.3.0-cp310-cp310-manylinux_2_17_x86_64.manylinux2014_x86_64.whl (194 kB)\n",
            "\u001b[2K     \u001b[90m━━━━━━━━━━━━━━━━━━━━━━━━━━━━━━━━━━━━━━\u001b[0m \u001b[32m194.1/194.1 kB\u001b[0m \u001b[31m18.8 MB/s\u001b[0m eta \u001b[36m0:00:00\u001b[0m\n",
            "\u001b[?25hCollecting multiprocess (from datasets)\n",
            "  Downloading multiprocess-0.70.15-py310-none-any.whl (134 kB)\n",
            "\u001b[2K     \u001b[90m━━━━━━━━━━━━━━━━━━━━━━━━━━━━━━━━━━━━━━\u001b[0m \u001b[32m134.8/134.8 kB\u001b[0m \u001b[31m14.9 MB/s\u001b[0m eta \u001b[36m0:00:00\u001b[0m\n",
            "\u001b[?25hRequirement already satisfied: fsspec[http]<2023.9.0,>=2023.1.0 in /usr/local/lib/python3.10/dist-packages (from datasets) (2023.6.0)\n",
            "Requirement already satisfied: aiohttp in /usr/local/lib/python3.10/dist-packages (from datasets) (3.8.5)\n",
            "Collecting huggingface-hub<1.0.0,>=0.14.0 (from datasets)\n",
            "  Downloading huggingface_hub-0.17.1-py3-none-any.whl (294 kB)\n",
            "\u001b[2K     \u001b[90m━━━━━━━━━━━━━━━━━━━━━━━━━━━━━━━━━━━━━━\u001b[0m \u001b[32m294.8/294.8 kB\u001b[0m \u001b[31m23.1 MB/s\u001b[0m eta \u001b[36m0:00:00\u001b[0m\n",
            "\u001b[?25hRequirement already satisfied: packaging in /usr/local/lib/python3.10/dist-packages (from datasets) (23.1)\n",
            "Requirement already satisfied: pyyaml>=5.1 in /usr/local/lib/python3.10/dist-packages (from datasets) (6.0.1)\n",
            "Collecting responses<0.19 (from evaluate)\n",
            "  Downloading responses-0.18.0-py3-none-any.whl (38 kB)\n",
            "Requirement already satisfied: attrs>=17.3.0 in /usr/local/lib/python3.10/dist-packages (from aiohttp->datasets) (23.1.0)\n",
            "Requirement already satisfied: charset-normalizer<4.0,>=2.0 in /usr/local/lib/python3.10/dist-packages (from aiohttp->datasets) (3.2.0)\n",
            "Requirement already satisfied: multidict<7.0,>=4.5 in /usr/local/lib/python3.10/dist-packages (from aiohttp->datasets) (6.0.4)\n",
            "Requirement already satisfied: async-timeout<5.0,>=4.0.0a3 in /usr/local/lib/python3.10/dist-packages (from aiohttp->datasets) (4.0.3)\n",
            "Requirement already satisfied: yarl<2.0,>=1.0 in /usr/local/lib/python3.10/dist-packages (from aiohttp->datasets) (1.9.2)\n",
            "Requirement already satisfied: frozenlist>=1.1.1 in /usr/local/lib/python3.10/dist-packages (from aiohttp->datasets) (1.4.0)\n",
            "Requirement already satisfied: aiosignal>=1.1.2 in /usr/local/lib/python3.10/dist-packages (from aiohttp->datasets) (1.3.1)\n",
            "Requirement already satisfied: filelock in /usr/local/lib/python3.10/dist-packages (from huggingface-hub<1.0.0,>=0.14.0->datasets) (3.12.2)\n",
            "Requirement already satisfied: typing-extensions>=3.7.4.3 in /usr/local/lib/python3.10/dist-packages (from huggingface-hub<1.0.0,>=0.14.0->datasets) (4.5.0)\n",
            "Requirement already satisfied: idna<4,>=2.5 in /usr/local/lib/python3.10/dist-packages (from requests>=2.19.0->datasets) (3.4)\n",
            "Requirement already satisfied: urllib3<3,>=1.21.1 in /usr/local/lib/python3.10/dist-packages (from requests>=2.19.0->datasets) (2.0.4)\n",
            "Requirement already satisfied: certifi>=2017.4.17 in /usr/local/lib/python3.10/dist-packages (from requests>=2.19.0->datasets) (2023.7.22)\n",
            "Requirement already satisfied: python-dateutil>=2.8.1 in /usr/local/lib/python3.10/dist-packages (from pandas->datasets) (2.8.2)\n",
            "Requirement already satisfied: pytz>=2020.1 in /usr/local/lib/python3.10/dist-packages (from pandas->datasets) (2023.3.post1)\n",
            "Requirement already satisfied: six>=1.5 in /usr/local/lib/python3.10/dist-packages (from python-dateutil>=2.8.1->pandas->datasets) (1.16.0)\n",
            "Installing collected packages: xxhash, dill, responses, multiprocess, huggingface-hub, datasets, evaluate\n",
            "Successfully installed datasets-2.14.5 dill-0.3.7 evaluate-0.4.0 huggingface-hub-0.17.1 multiprocess-0.70.15 responses-0.18.0 xxhash-3.3.0\n"
          ]
        }
      ],
      "source": [
        "!pip install datasets evaluate"
      ]
    },
    {
      "cell_type": "code",
      "source": [
        "!pip install transformers"
      ],
      "metadata": {
        "id": "XyvB6IAXjr4i",
        "colab": {
          "base_uri": "https://localhost:8080/"
        },
        "outputId": "0d7b42e2-ed96-402a-a21f-b6e05cb3c410"
      },
      "execution_count": null,
      "outputs": [
        {
          "output_type": "stream",
          "name": "stdout",
          "text": [
            "Collecting transformers\n",
            "  Downloading transformers-4.33.2-py3-none-any.whl (7.6 MB)\n",
            "\u001b[2K     \u001b[90m━━━━━━━━━━━━━━━━━━━━━━━━━━━━━━━━━━━━━━━━\u001b[0m \u001b[32m7.6/7.6 MB\u001b[0m \u001b[31m18.3 MB/s\u001b[0m eta \u001b[36m0:00:00\u001b[0m\n",
            "\u001b[?25hRequirement already satisfied: filelock in /usr/local/lib/python3.10/dist-packages (from transformers) (3.12.2)\n",
            "Requirement already satisfied: huggingface-hub<1.0,>=0.15.1 in /usr/local/lib/python3.10/dist-packages (from transformers) (0.17.1)\n",
            "Requirement already satisfied: numpy>=1.17 in /usr/local/lib/python3.10/dist-packages (from transformers) (1.23.5)\n",
            "Requirement already satisfied: packaging>=20.0 in /usr/local/lib/python3.10/dist-packages (from transformers) (23.1)\n",
            "Requirement already satisfied: pyyaml>=5.1 in /usr/local/lib/python3.10/dist-packages (from transformers) (6.0.1)\n",
            "Requirement already satisfied: regex!=2019.12.17 in /usr/local/lib/python3.10/dist-packages (from transformers) (2023.6.3)\n",
            "Requirement already satisfied: requests in /usr/local/lib/python3.10/dist-packages (from transformers) (2.31.0)\n",
            "Collecting tokenizers!=0.11.3,<0.14,>=0.11.1 (from transformers)\n",
            "  Downloading tokenizers-0.13.3-cp310-cp310-manylinux_2_17_x86_64.manylinux2014_x86_64.whl (7.8 MB)\n",
            "\u001b[2K     \u001b[90m━━━━━━━━━━━━━━━━━━━━━━━━━━━━━━━━━━━━━━━━\u001b[0m \u001b[32m7.8/7.8 MB\u001b[0m \u001b[31m90.2 MB/s\u001b[0m eta \u001b[36m0:00:00\u001b[0m\n",
            "\u001b[?25hCollecting safetensors>=0.3.1 (from transformers)\n",
            "  Downloading safetensors-0.3.3-cp310-cp310-manylinux_2_17_x86_64.manylinux2014_x86_64.whl (1.3 MB)\n",
            "\u001b[2K     \u001b[90m━━━━━━━━━━━━━━━━━━━━━━━━━━━━━━━━━━━━━━━━\u001b[0m \u001b[32m1.3/1.3 MB\u001b[0m \u001b[31m70.9 MB/s\u001b[0m eta \u001b[36m0:00:00\u001b[0m\n",
            "\u001b[?25hRequirement already satisfied: tqdm>=4.27 in /usr/local/lib/python3.10/dist-packages (from transformers) (4.66.1)\n",
            "Requirement already satisfied: fsspec in /usr/local/lib/python3.10/dist-packages (from huggingface-hub<1.0,>=0.15.1->transformers) (2023.6.0)\n",
            "Requirement already satisfied: typing-extensions>=3.7.4.3 in /usr/local/lib/python3.10/dist-packages (from huggingface-hub<1.0,>=0.15.1->transformers) (4.5.0)\n",
            "Requirement already satisfied: charset-normalizer<4,>=2 in /usr/local/lib/python3.10/dist-packages (from requests->transformers) (3.2.0)\n",
            "Requirement already satisfied: idna<4,>=2.5 in /usr/local/lib/python3.10/dist-packages (from requests->transformers) (3.4)\n",
            "Requirement already satisfied: urllib3<3,>=1.21.1 in /usr/local/lib/python3.10/dist-packages (from requests->transformers) (2.0.4)\n",
            "Requirement already satisfied: certifi>=2017.4.17 in /usr/local/lib/python3.10/dist-packages (from requests->transformers) (2023.7.22)\n",
            "Installing collected packages: tokenizers, safetensors, transformers\n",
            "Successfully installed safetensors-0.3.3 tokenizers-0.13.3 transformers-4.33.2\n"
          ]
        }
      ]
    },
    {
      "cell_type": "code",
      "source": [
        "# Mount google drive for saving and loading features, models, dataset, etc\n",
        "from google.colab import drive\n",
        "drive.mount('/content/drive')\n",
        "root_path = 'drive/My Drive/Colab Notebooks/'"
      ],
      "metadata": {
        "colab": {
          "base_uri": "https://localhost:8080/"
        },
        "id": "uARAC-7wRuX6",
        "outputId": "ec748a54-6f92-40ad-c03d-b2302381f40a"
      },
      "execution_count": null,
      "outputs": [
        {
          "output_type": "stream",
          "name": "stdout",
          "text": [
            "Mounted at /content/drive\n"
          ]
        }
      ]
    },
    {
      "cell_type": "code",
      "source": [
        "from datasets import load_dataset\n",
        "import matplotlib.pyplot as plt\n",
        "import numpy as np\n",
        "import pandas as pd\n",
        "import random\n",
        "from sklearn.metrics import accuracy_score, precision_score, recall_score, f1_score\n",
        "from sklearn.model_selection import train_test_split\n",
        "import torch\n",
        "import torch.nn as nn\n",
        "import torch.optim as optim\n",
        "from torch.utils.data import DataLoader, TensorDataset\n",
        "from torchvision import transforms\n",
        "import torchvision.models as models\n",
        "from transformers import MobileNetV2FeatureExtractor, MobileNetV2ForImageClassification\n",
        "from transformers import TrainingArguments, Trainer"
      ],
      "metadata": {
        "id": "3M6JZVhORuba"
      },
      "execution_count": null,
      "outputs": []
    },
    {
      "cell_type": "markdown",
      "source": [
        "# Load the Dataset"
      ],
      "metadata": {
        "id": "__iS9P1Z6Jhl"
      }
    },
    {
      "cell_type": "code",
      "source": [
        "# Load the dataset\n",
        "image_folder_path = root_path+\"/NIH_Chest_XRay/sample/images\"\n",
        "dataset = load_dataset(\"imagefolder\", data_dir=image_folder_path)\n",
        "\n",
        "train_val_split = 0.2\n",
        "split = dataset[\"train\"].train_test_split(train_val_split, seed=42)\n",
        "train_dataset = split[\"train\"]\n",
        "test_dataset = split[\"test\"]"
      ],
      "metadata": {
        "id": "Ymqxa8DDRuls",
        "colab": {
          "base_uri": "https://localhost:8080/",
          "height": 177,
          "referenced_widgets": [
            "cbcb2b0672be46a782802d0b5fddf713",
            "fd7d45ae17de4e1292b57e28b7353333",
            "731f1651ea994294846b0c859680c90e",
            "b8ae22bfce77428ba2ec39badc72c5e1",
            "92c5b098c6584bba9462ae1cbbfc54bd",
            "aa4d35f5544640e486b787b9e9d422b7",
            "c990a24e4724485fbcca7984f3265d3f",
            "ee94a81987e5436bbb40b19b6019b686",
            "8a360d083d774d8e86dbbe539596dd2b",
            "76faedcc550043c199b4ca103051c845",
            "edbca1cbd73d43ebafbda0607c81d608",
            "50760b9b89a44e11a742650a65c3deda",
            "5b0ab45b24894eb3bf939df2556ca9fe",
            "e2dcccaedea74eaaa6b744bff65df585",
            "ed12419b791648d4b7c3d8543e9c6917",
            "1bec2109e7f34cd497aeb3342ef72685",
            "62ff48511dc74b199cb4cb5daed604a2",
            "235a9eaccee244a48ab21884ca0c8ca2",
            "fb14e7773a7547eab0a14148cfe9c65e",
            "bf4b03d3c73741eaa6201f1bb968d200",
            "6b262553010547e9b2c645a37d5f1e20",
            "8bcccd7ccdf846d9975e72f16a4af815",
            "ce866949071c426ea84f382782c55f9e",
            "ea9f283c69384a0a963ad3332151bb15",
            "373e5b96d21e4471a37c5e865f49619a",
            "625b3ee3874a4492b8d0883232520e8d",
            "1d3fcd8bca234e9082f19a5eca27fa34",
            "50e644b45242492aadec88917d7ba1f7",
            "9fd3d49e9c0f40f3a28d4398850f8619",
            "4c683a2943234a9a991b95549b3d3c1f",
            "2be8565dfab54bd18e1daf68125de7fd",
            "08b79ad177cb4385b2d28471844ee3cd",
            "b756a3eda5364a96b44634b7c72c6e26",
            "22517e644ef0450a88c84da600526d7d",
            "d8bf89489e1a4f55ba6680fafce63fe7",
            "018876b2c3d7437b8a4614ad69764037",
            "f3409b5a5df540c98b223495f2da7257",
            "0824696074bf4459a8c3d57522149453",
            "dbee0478eff34c379c42c0c5410596fe",
            "a8e531f20fdc4406a8c27104aabca8d3",
            "4d4f695114774db3a38cb76931547799",
            "ce0f0877d3e64a18b4277db8ad779120",
            "37f118a654d449a386b2cace1ef0909c",
            "43b1387ed6a840cf9235bcaea800e676",
            "8303cb2b69364f9aaa434c784f67146f",
            "f2744c6e0f42493ea74a110b618b507c",
            "909eeb29244e457982201c36cdc5ec88",
            "c0cf54fa525041738f197745dab65225",
            "981f333dcefc4476876a499432f54e5f",
            "a84e3e4f345a4b1d93e39afdd5880cc1",
            "56787906879240a18457c9c30250fcbb",
            "0951957d1bbf4f81a86f4f1d3e5981be",
            "a75ea175b323457785d7d4ba9fc377f4",
            "081b711c0c654c78b841115bc9e0c2e0",
            "5a55aa1599784c75998c4ef432617c4d"
          ]
        },
        "outputId": "c24107be-cfa0-4714-f3b3-b1c02dfcf2e5"
      },
      "execution_count": null,
      "outputs": [
        {
          "output_type": "display_data",
          "data": {
            "text/plain": [
              "Resolving data files:   0%|          | 0/5607 [00:00<?, ?it/s]"
            ],
            "application/vnd.jupyter.widget-view+json": {
              "version_major": 2,
              "version_minor": 0,
              "model_id": "cbcb2b0672be46a782802d0b5fddf713"
            }
          },
          "metadata": {}
        },
        {
          "output_type": "display_data",
          "data": {
            "text/plain": [
              "Downloading data files:   0%|          | 0/5607 [00:00<?, ?it/s]"
            ],
            "application/vnd.jupyter.widget-view+json": {
              "version_major": 2,
              "version_minor": 0,
              "model_id": "50760b9b89a44e11a742650a65c3deda"
            }
          },
          "metadata": {}
        },
        {
          "output_type": "display_data",
          "data": {
            "text/plain": [
              "Downloading data files: 0it [00:00, ?it/s]"
            ],
            "application/vnd.jupyter.widget-view+json": {
              "version_major": 2,
              "version_minor": 0,
              "model_id": "ce866949071c426ea84f382782c55f9e"
            }
          },
          "metadata": {}
        },
        {
          "output_type": "display_data",
          "data": {
            "text/plain": [
              "Extracting data files: 0it [00:00, ?it/s]"
            ],
            "application/vnd.jupyter.widget-view+json": {
              "version_major": 2,
              "version_minor": 0,
              "model_id": "22517e644ef0450a88c84da600526d7d"
            }
          },
          "metadata": {}
        },
        {
          "output_type": "display_data",
          "data": {
            "text/plain": [
              "Generating train split: 0 examples [00:00, ? examples/s]"
            ],
            "application/vnd.jupyter.widget-view+json": {
              "version_major": 2,
              "version_minor": 0,
              "model_id": "8303cb2b69364f9aaa434c784f67146f"
            }
          },
          "metadata": {}
        }
      ]
    },
    {
      "cell_type": "markdown",
      "source": [
        "## Preprocess the dataset"
      ],
      "metadata": {
        "id": "h50MTl0I6Wlk"
      }
    },
    {
      "cell_type": "code",
      "source": [
        "# Load and preprocess data\n",
        "transform = transforms.Compose([\n",
        "    transforms.Resize((224, 224)),\n",
        "    transforms.ToTensor(),\n",
        "    transforms.Normalize(mean=[0.485, 0.456, 0.406], std=[0.229, 0.224, 0.225]),\n",
        "])\n",
        "\n",
        "# Extract features from the dataset\n",
        "train_features = []\n",
        "train_labels = []\n",
        "for example in train_dataset:\n",
        "    image = example[\"image\"]\n",
        "    image = image.convert(\"RGB\")\n",
        "    image = transform(image).unsqueeze(0)  # Add batch dimension for single image\n",
        "    train_features.append(image)\n",
        "    train_labels.append(example[\"labels\"])\n",
        "\n",
        "# Convert features and labels to tensors\n",
        "train_features = torch.cat(train_features, dim=0)\n",
        "train_labels = torch.tensor(train_labels)\n",
        "\n",
        "train_dataset_cnn = TensorDataset(train_features, train_labels)\n",
        "train_loader = DataLoader(train_dataset_cnn, batch_size=32, shuffle=True)\n",
        "\n",
        "# Extract features from the dataset\n",
        "test_features = []\n",
        "test_labels = []\n",
        "for example in test_dataset:\n",
        "    image = example[\"image\"]\n",
        "    image = image.convert(\"RGB\")\n",
        "    image = transform(image).unsqueeze(0)  # Add batch dimension for single image\n",
        "    test_features.append(image)\n",
        "    test_labels.append(example[\"labels\"])\n",
        "\n",
        "# Convert features and labels to tensors\n",
        "test_features = torch.cat(test_features, dim=0)\n",
        "test_labels = torch.tensor(test_labels)\n",
        "\n",
        "test_dataset_cnn = TensorDataset(test_features, test_labels)\n",
        "test_loader = DataLoader(test_dataset_cnn, batch_size=32, shuffle=True)"
      ],
      "metadata": {
        "id": "CTgCmJXWbId2"
      },
      "execution_count": null,
      "outputs": []
    },
    {
      "cell_type": "code",
      "source": [
        "# Save features for future use\n",
        "torch.save(train_features, root_path+\"features/train_features_plain_cnn.pt\")\n",
        "torch.save(train_labels, root_path+\"features/train_labels_plain_cnn.pt\")\n",
        "\n",
        "torch.save(test_features, root_path+\"features/test_features_plain_cnn.pt\")\n",
        "torch.save(test_labels, root_path+\"features/test_labels_plain_cnn.pt\")"
      ],
      "metadata": {
        "id": "FJjg31Uf9TP3"
      },
      "execution_count": null,
      "outputs": []
    },
    {
      "cell_type": "code",
      "source": [
        "# Load the saved features\n",
        "train_features = torch.load(root_path+\"features/train_features_plain_cnn.pt\")\n",
        "train_labels = torch.load(root_path+\"features/train_labels_plain_cnn.pt\")\n",
        "\n",
        "test_features = torch.load(root_path+\"features/test_features_plain_cnn.pt\")\n",
        "test_labels = torch.load(root_path+\"features/test_labels_plain_cnn.pt\")"
      ],
      "metadata": {
        "id": "YFSaZLWO7x-F"
      },
      "execution_count": null,
      "outputs": []
    },
    {
      "cell_type": "markdown",
      "source": [
        "## Minority class selection"
      ],
      "metadata": {
        "id": "IteLxTah6PpY"
      }
    },
    {
      "cell_type": "code",
      "source": [
        "# Store the unique labels\n",
        "unique_labels = ['Atelectasis', 'Cardiomegaly', 'Consolidation', 'Edema', 'Effusion', 'Emphysema',\n",
        "                 'Fibrosis', 'Hernia', 'Infiltration', 'Mass', 'No Finding', 'Nodule', 'Pleural_Thickening',\n",
        "                 'Pneumonia', 'Pneumothorax']\n",
        "\n",
        "# Convert one-hot encoded labels to class indices\n",
        "labels = dataset['train']['labels']\n",
        "label_data = np.array(labels)\n",
        "# Calculate class counts\n",
        "class_counts = np.sum(label_data, axis=0)\n",
        "\n",
        "num_classes = len(labels[0])\n",
        "\n",
        "# Print unique labels along with their corresponding sample counts\n",
        "for label, count in zip(unique_labels, class_counts):\n",
        "    print(f\"{label}: {count} samples\")"
      ],
      "metadata": {
        "colab": {
          "base_uri": "https://localhost:8080/"
        },
        "id": "JEp3DMok20EC",
        "outputId": "cbbd5437-a2f6-43f0-9a42-39c7a3c4f1ab"
      },
      "execution_count": null,
      "outputs": [
        {
          "output_type": "stream",
          "name": "stdout",
          "text": [
            "Atelectasis: 508.0 samples\n",
            "Cardiomegaly: 141.0 samples\n",
            "Consolidation: 226.0 samples\n",
            "Edema: 118.0 samples\n",
            "Effusion: 644.0 samples\n",
            "Emphysema: 127.0 samples\n",
            "Fibrosis: 84.0 samples\n",
            "Hernia: 13.0 samples\n",
            "Infiltration: 967.0 samples\n",
            "Mass: 284.0 samples\n",
            "No Finding: 3044.0 samples\n",
            "Nodule: 313.0 samples\n",
            "Pleural_Thickening: 176.0 samples\n",
            "Pneumonia: 62.0 samples\n",
            "Pneumothorax: 271.0 samples\n"
          ]
        }
      ]
    },
    {
      "cell_type": "code",
      "source": [
        "# Determine classes with less than 50 samples\n",
        "min_samples = 100\n",
        "labels_to_drop = [idx for idx, count in enumerate(class_counts) if count < min_samples]\n",
        "\n",
        "total_length = len(labels[0])\n",
        "minority_classes = [0 if idx in labels_to_drop else 1 for idx in range(total_length)]\n",
        "\n",
        "# Print the new list\n",
        "print(minority_classes)\n",
        "\n",
        "# Select only few 'No Finding' samples\n",
        "# Find the label index with the most samples (11th label)\n",
        "no_finding_index = 10  # Index corresponding to the 11th label\n",
        "no_finding_samples = 500\n",
        "no_finding = [idx for idx, label in enumerate(label_data) if label[no_finding_index] == 1]\n",
        "no_finding_indices = random.sample(no_finding, no_finding_samples)\n",
        "\n",
        "# Collect indices of label sets that don't have any of the minority classes\n",
        "indices_without_nofinding = [idx for idx, label in enumerate(label_data) if label[no_finding_index] == 0]\n",
        "# Get labels\n",
        "labels_without_nofinding = [label_data[idx] for idx in indices_without_nofinding]\n",
        "\n",
        "majority_indices = []\n",
        "\n",
        "for idx, label in enumerate(labels_without_nofinding):\n",
        "    if not(label[6] == 1 or label[7] == 1 or label[13] == 1):\n",
        "        majority_indices.append(idx)\n",
        "\n",
        "combined_indices = no_finding_indices + majority_indices\n",
        "# Print the collected indices\n",
        "print(len(majority_indices))"
      ],
      "metadata": {
        "colab": {
          "base_uri": "https://localhost:8080/"
        },
        "id": "-_GzhoR92tR2",
        "outputId": "8f8195a8-4b06-42a5-e170-4a99707bc93e"
      },
      "execution_count": null,
      "outputs": [
        {
          "output_type": "stream",
          "name": "stdout",
          "text": [
            "[1, 1, 1, 1, 1, 1, 0, 0, 1, 1, 1, 1, 1, 0, 1]\n",
            "2404\n"
          ]
        }
      ]
    },
    {
      "cell_type": "code",
      "source": [
        "selected_features = [dataset['train'][idx]['image'] for idx in combined_indices]\n",
        "selected_labels = [dataset['train'][idx]['labels'] for idx in combined_indices]\n",
        "\n",
        "# Create new tensors by dropping the specified column\n",
        "updated_labels = [label[:6] + label[8:13] + label[14:] for label in selected_labels]\n",
        "\n",
        "# Split the data into train and test sets\n",
        "train_feat, test_feat, train_lab, test_lab = train_test_split(\n",
        "    selected_features, updated_labels, test_size=0.2, random_state=42\n",
        ")\n",
        "\n",
        "# Print the shapes of the train and test sets\n",
        "print(\"Train features shape:\", len(train_feat))\n",
        "print(\"Train labels shape:\", len(train_lab))\n",
        "print(\"Test features shape:\", len(test_feat))\n",
        "print(\"Test labels shape:\", len(test_lab))"
      ],
      "metadata": {
        "colab": {
          "base_uri": "https://localhost:8080/"
        },
        "id": "3MZIOOzU241v",
        "outputId": "338c05fb-3414-42b0-b386-1827e8cef278"
      },
      "execution_count": null,
      "outputs": [
        {
          "output_type": "stream",
          "name": "stdout",
          "text": [
            "Train features shape: 2323\n",
            "Train labels shape: 2323\n",
            "Test features shape: 581\n",
            "Test labels shape: 581\n"
          ]
        }
      ]
    },
    {
      "cell_type": "markdown",
      "source": [
        "# MobileNet Training"
      ],
      "metadata": {
        "id": "ZdcZvm8374Rm"
      }
    },
    {
      "cell_type": "markdown",
      "source": [
        "## Initial model and hyperparameters"
      ],
      "metadata": {
        "id": "ultPH_Jv77zF"
      }
    },
    {
      "cell_type": "code",
      "source": [
        "# Load the pretrained MobileNetV2 model\n",
        "model = models.mobilenet_v2(pretrained=True)\n",
        "\n",
        "# Modify the last fully connected layer for your classification task\n",
        "num_classes = len(train_labels[0])\n",
        "in_features = model.classifier[-1].in_features\n",
        "model.classifier[-1] = torch.nn.Linear(in_features, num_classes)\n",
        "\n",
        "learning_rate = 0.001\n",
        "num_epochs = 15\n",
        "batch_size = 32\n",
        "lr_scheduler_step = 3\n",
        "lr_scheduler_gamma = 0.5\n",
        "\n",
        "# Define optimizer and learning rate scheduler\n",
        "optimizer = optim.Adam(model.parameters(), lr=learning_rate)\n",
        "scheduler = optim.lr_scheduler.StepLR(optimizer, step_size=lr_scheduler_step, gamma=lr_scheduler_gamma)\n",
        "\n",
        "# Move model and data to GPU if available\n",
        "device = torch.device(\"cuda:0\" if torch.cuda.is_available() else \"cpu\")\n",
        "model.to(device)\n",
        "criterion = torch.nn.BCEWithLogitsLoss()\n",
        "# Define your custom loss function\n",
        "#criterion = WeightedBinaryCrossEntropyLoss(pos_weights, neg_weights)\n",
        "criterion.to(device)"
      ],
      "metadata": {
        "colab": {
          "base_uri": "https://localhost:8080/"
        },
        "id": "q33MklTsarSS",
        "outputId": "5089644e-2c8b-4ef6-8bbd-fc7a6d5bfe66"
      },
      "execution_count": null,
      "outputs": [
        {
          "output_type": "stream",
          "name": "stderr",
          "text": [
            "/usr/local/lib/python3.10/dist-packages/torchvision/models/_utils.py:208: UserWarning: The parameter 'pretrained' is deprecated since 0.13 and may be removed in the future, please use 'weights' instead.\n",
            "  warnings.warn(\n",
            "/usr/local/lib/python3.10/dist-packages/torchvision/models/_utils.py:223: UserWarning: Arguments other than a weight enum or `None` for 'weights' are deprecated since 0.13 and may be removed in the future. The current behavior is equivalent to passing `weights=MobileNet_V2_Weights.IMAGENET1K_V1`. You can also use `weights=MobileNet_V2_Weights.DEFAULT` to get the most up-to-date weights.\n",
            "  warnings.warn(msg)\n"
          ]
        },
        {
          "output_type": "execute_result",
          "data": {
            "text/plain": [
              "BCEWithLogitsLoss()"
            ]
          },
          "metadata": {},
          "execution_count": 18
        }
      ]
    },
    {
      "cell_type": "code",
      "source": [
        "# Define your DataLoader for train and test datasets\n",
        "train_dataset = TensorDataset(train_features, train_labels)\n",
        "train_loader = DataLoader(train_dataset, batch_size=batch_size, shuffle=True)\n",
        "\n",
        "test_dataset = TensorDataset(test_features, test_labels)\n",
        "test_loader = DataLoader(test_dataset, batch_size=batch_size, shuffle=False)"
      ],
      "metadata": {
        "id": "eG88mR2Ls0FB"
      },
      "execution_count": null,
      "outputs": []
    },
    {
      "cell_type": "markdown",
      "source": [
        "## Training Loop NIH Original"
      ],
      "metadata": {
        "id": "bNxWCBxX7_jh"
      }
    },
    {
      "cell_type": "code",
      "source": [
        "test_losses = []\n",
        "train_losses = []\n",
        "\n",
        "# Training loop\n",
        "for epoch in range(num_epochs):\n",
        "    model.train()\n",
        "    running_train_loss = 0.0\n",
        "    running_preds = []\n",
        "    running_labels = []\n",
        "\n",
        "    for inputs, labels in train_loader:\n",
        "        inputs, labels = inputs.to(device), labels.to(device)  # Move data to GPU\n",
        "        optimizer.zero_grad()\n",
        "        outputs = model(inputs)\n",
        "        loss = criterion(outputs, labels)\n",
        "        loss.backward()\n",
        "        optimizer.step()\n",
        "\n",
        "        running_train_loss += loss.item() * inputs.size(0)\n",
        "\n",
        "        # Convert predictions and labels to binary (0 or 1)\n",
        "        preds = torch.sigmoid(outputs) > 0.5\n",
        "\n",
        "    train_epoch_loss = running_train_loss / len(train_loader.dataset)\n",
        "    train_losses.append(train_epoch_loss)\n",
        "\n",
        "    # Evaluation on test set\n",
        "    model.eval()\n",
        "    running_test_loss = 0.0\n",
        "    running_test_preds = []\n",
        "    running_test_labels = []\n",
        "\n",
        "    with torch.no_grad():\n",
        "        for inputs, labels in test_loader:\n",
        "            inputs, labels = inputs.to(device), labels.to(device)\n",
        "            outputs = model(inputs)\n",
        "            loss = criterion(outputs, labels)\n",
        "\n",
        "            running_test_loss += loss.item() * inputs.size(0)\n",
        "\n",
        "            # Convert predictions and labels to binary (0 or 1)\n",
        "            test_preds = torch.sigmoid(outputs) > 0.5\n",
        "            running_test_preds.append(test_preds.cpu().numpy())\n",
        "            running_test_labels.append(labels.cpu().numpy())\n",
        "\n",
        "    test_epoch_loss = running_test_loss / len(test_loader.dataset)\n",
        "    test_losses.append(test_epoch_loss)\n",
        "    # Flatten predictions and labels for test set\n",
        "    all_test_preds = torch.tensor(np.concatenate(running_test_preds, axis=0)).to(device)\n",
        "    all_test_labels = torch.tensor(np.concatenate(running_test_labels, axis=0)).to(device)\n",
        "\n",
        "    # Calculate metrics for test set\n",
        "    test_accuracy = accuracy_score(all_test_labels.cpu(), all_test_preds.cpu())\n",
        "    test_precision = precision_score(all_test_labels.cpu(), all_test_preds.cpu(), average='micro')\n",
        "    test_recall = recall_score(all_test_labels.cpu(), all_test_preds.cpu(), average='micro')\n",
        "    test_f1 = f1_score(all_test_labels.cpu(), all_test_preds.cpu(), average='micro')\n",
        "\n",
        "    print(f\"Epoch [{epoch+1}/{num_epochs}] - \"\n",
        "          f\"Train Loss: {train_epoch_loss:.4f} - \"\n",
        "          f\"Test Loss: {test_epoch_loss:.4f} - \"\n",
        "          f\"Accuracy: {test_accuracy:.4f} - \"\n",
        "          f\"Precision: {test_precision:.4f} - \"\n",
        "          f\"Recall: {test_recall:.4f} - \"\n",
        "          f\"F1: {test_f1:.4f}\")\n"
      ],
      "metadata": {
        "colab": {
          "base_uri": "https://localhost:8080/"
        },
        "id": "GRpXcxnxbIf4",
        "outputId": "226027f5-e8e0-4d3f-a11f-84e039f43b9e"
      },
      "execution_count": null,
      "outputs": [
        {
          "output_type": "stream",
          "name": "stdout",
          "text": [
            "Epoch [1/15] - Train Loss: 0.2159 - Test Loss: 0.1980 - Accuracy: 0.3868 - Precision: 0.7057 - Recall: 0.3120 - F1: 0.4327\n",
            "Epoch [2/15] - Train Loss: 0.1976 - Test Loss: 0.2131 - Accuracy: 0.2264 - Precision: 0.7910 - Recall: 0.1905 - F1: 0.3071\n",
            "Epoch [3/15] - Train Loss: 0.1932 - Test Loss: 0.2024 - Accuracy: 0.4831 - Precision: 0.6385 - Recall: 0.3911 - F1: 0.4851\n",
            "Epoch [4/15] - Train Loss: 0.1893 - Test Loss: 0.2030 - Accuracy: 0.3458 - Precision: 0.6985 - Recall: 0.2948 - F1: 0.4146\n",
            "Epoch [5/15] - Train Loss: 0.1839 - Test Loss: 0.2035 - Accuracy: 0.4198 - Precision: 0.6341 - Recall: 0.3738 - F1: 0.4704\n",
            "Epoch [6/15] - Train Loss: 0.1822 - Test Loss: 0.1990 - Accuracy: 0.4447 - Precision: 0.6537 - Recall: 0.3731 - F1: 0.4751\n",
            "Epoch [7/15] - Train Loss: 0.1712 - Test Loss: 0.2053 - Accuracy: 0.3396 - Precision: 0.6145 - Recall: 0.3048 - F1: 0.4075\n",
            "Epoch [8/15] - Train Loss: 0.1653 - Test Loss: 0.2085 - Accuracy: 0.4127 - Precision: 0.6536 - Recall: 0.3472 - F1: 0.4535\n",
            "Epoch [9/15] - Train Loss: 0.1588 - Test Loss: 0.2158 - Accuracy: 0.3012 - Precision: 0.6036 - Recall: 0.2868 - F1: 0.3889\n",
            "Epoch [10/15] - Train Loss: 0.1468 - Test Loss: 0.2246 - Accuracy: 0.3396 - Precision: 0.6091 - Recall: 0.3271 - F1: 0.4256\n",
            "Epoch [11/15] - Train Loss: 0.1390 - Test Loss: 0.2485 - Accuracy: 0.3699 - Precision: 0.5639 - Recall: 0.3523 - F1: 0.4336\n",
            "Epoch [12/15] - Train Loss: 0.1284 - Test Loss: 0.2691 - Accuracy: 0.4483 - Precision: 0.5976 - Recall: 0.3940 - F1: 0.4749\n",
            "Epoch [13/15] - Train Loss: 0.1143 - Test Loss: 0.2903 - Accuracy: 0.3886 - Precision: 0.5157 - Recall: 0.3774 - F1: 0.4359\n",
            "Epoch [14/15] - Train Loss: 0.1108 - Test Loss: 0.2699 - Accuracy: 0.2906 - Precision: 0.4789 - Recall: 0.2854 - F1: 0.3577\n",
            "Epoch [15/15] - Train Loss: 0.0996 - Test Loss: 0.3662 - Accuracy: 0.4314 - Precision: 0.5703 - Recall: 0.3789 - F1: 0.4553\n"
          ]
        }
      ]
    },
    {
      "cell_type": "code",
      "source": [
        "outputs[0]"
      ],
      "metadata": {
        "colab": {
          "base_uri": "https://localhost:8080/"
        },
        "id": "CKI2RporGlDH",
        "outputId": "459e04e0-f2ab-4e6e-8906-65b9cd91d050"
      },
      "execution_count": null,
      "outputs": [
        {
          "output_type": "execute_result",
          "data": {
            "text/plain": [
              "tensor([ 0.2758, -0.1331, -0.2119,  0.0497, -0.0336, -0.2017, -0.4633,  0.1044,\n",
              "         0.5138,  0.2606,  0.1077,  0.2004,  0.1389, -0.0854,  0.1152],\n",
              "       device='cuda:0', grad_fn=<SelectBackward0>)"
            ]
          },
          "metadata": {},
          "execution_count": 63
        }
      ]
    },
    {
      "cell_type": "markdown",
      "source": [
        "## Training Loop NIH selected"
      ],
      "metadata": {
        "id": "g5ptTG9UDjgn"
      }
    },
    {
      "cell_type": "code",
      "source": [
        "test_losses = []\n",
        "train_losses = []\n",
        "\n",
        "# Training loop\n",
        "# Training loop\n",
        "for epoch in range(num_epochs):\n",
        "    model.train()\n",
        "    running_train_loss = 0.0\n",
        "    running_preds = []\n",
        "    running_labels = []\n",
        "\n",
        "    for inputs, labels in train_loader:\n",
        "        inputs, labels = inputs.to(device), labels.to(device)  # Move data to GPU\n",
        "        optimizer.zero_grad()\n",
        "        outputs = model(inputs)\n",
        "        loss = criterion(outputs, labels)\n",
        "        loss.backward()\n",
        "        optimizer.step()\n",
        "\n",
        "        running_train_loss += loss.item() * inputs.size(0)\n",
        "\n",
        "        # Convert predictions and labels to binary (0 or 1)\n",
        "        preds = torch.sigmoid(outputs) > 0.5\n",
        "        #running_preds.append(preds.cpu().numpy())\n",
        "        #running_labels.append(labels.cpu().numpy())\n",
        "\n",
        "    train_epoch_loss = running_train_loss / len(train_loader.dataset)\n",
        "    train_losses.append(train_epoch_loss)\n",
        "\n",
        "    # Evaluation on test set\n",
        "    model.eval()\n",
        "    running_test_loss = 0.0\n",
        "    running_test_preds = []\n",
        "    running_test_labels = []\n",
        "\n",
        "    with torch.no_grad():\n",
        "        for inputs, labels in test_loader:\n",
        "            inputs, labels = inputs.to(device), labels.to(device)  # Move data to GPU\n",
        "            outputs = model(inputs)\n",
        "            loss = criterion(outputs, labels)\n",
        "\n",
        "            running_test_loss += loss.item() * inputs.size(0)\n",
        "\n",
        "            # Convert predictions and labels to binary (0 or 1)\n",
        "            test_preds = torch.sigmoid(outputs) > 0.5\n",
        "            running_test_preds.append(test_preds.cpu().numpy())\n",
        "            running_test_labels.append(labels.cpu().numpy())\n",
        "\n",
        "    test_epoch_loss = running_test_loss / len(test_loader.dataset)\n",
        "    test_losses.append(test_epoch_loss)\n",
        "    # Flatten predictions and labels for test set\n",
        "    all_test_preds = torch.tensor(np.concatenate(running_test_preds, axis=0)).to(device)\n",
        "    all_test_labels = torch.tensor(np.concatenate(running_test_labels, axis=0)).to(device)\n",
        "\n",
        "    # Calculate metrics for test set\n",
        "    test_accuracy = accuracy_score(all_test_labels.cpu(), all_test_preds.cpu())\n",
        "    test_precision = precision_score(all_test_labels.cpu(), all_test_preds.cpu(), average='micro')\n",
        "    test_recall = recall_score(all_test_labels.cpu(), all_test_preds.cpu(), average='micro')\n",
        "    test_f1 = f1_score(all_test_labels.cpu(), all_test_preds.cpu(), average='micro')\n",
        "\n",
        "    print(f\"Epoch [{epoch+1}/{num_epochs}] - \"\n",
        "          f\"Train Loss: {train_epoch_loss:.4f} - \"\n",
        "          f\"Test Loss: {test_epoch_loss:.4f} - \"\n",
        "          f\"Accuracy: {test_accuracy:.4f} - \"\n",
        "          f\"Precision: {test_precision:.4f} - \"\n",
        "          f\"Recall: {test_recall:.4f} - \"\n",
        "          f\"F1: {test_f1:.4f}\")\n"
      ],
      "metadata": {
        "colab": {
          "base_uri": "https://localhost:8080/"
        },
        "id": "gjXN1BPDDlNh",
        "outputId": "38722233-adef-453f-8385-852d6e0562f2"
      },
      "execution_count": null,
      "outputs": [
        {
          "output_type": "stream",
          "name": "stdout",
          "text": [
            "Epoch [1/15] - Train Loss: 0.2148 - Test Loss: 0.1979 - Accuracy: 0.4554 - Precision: 0.6750 - Recall: 0.3674 - F1: 0.4758\n",
            "Epoch [2/15] - Train Loss: 0.2001 - Test Loss: 0.2005 - Accuracy: 0.2674 - Precision: 0.7246 - Recall: 0.2308 - F1: 0.3501\n",
            "Epoch [3/15] - Train Loss: 0.1941 - Test Loss: 0.1985 - Accuracy: 0.3601 - Precision: 0.7047 - Recall: 0.2933 - F1: 0.4142\n",
            "Epoch [4/15] - Train Loss: 0.1899 - Test Loss: 0.1975 - Accuracy: 0.4020 - Precision: 0.6780 - Recall: 0.3436 - F1: 0.4561\n",
            "Epoch [5/15] - Train Loss: 0.1860 - Test Loss: 0.1981 - Accuracy: 0.3761 - Precision: 0.7097 - Recall: 0.3199 - F1: 0.4410\n",
            "Epoch [6/15] - Train Loss: 0.1800 - Test Loss: 0.2088 - Accuracy: 0.1925 - Precision: 0.6487 - Recall: 0.1646 - F1: 0.2626\n",
            "Epoch [7/15] - Train Loss: 0.1734 - Test Loss: 0.2053 - Accuracy: 0.4002 - Precision: 0.6565 - Recall: 0.3408 - F1: 0.4487\n",
            "Epoch [8/15] - Train Loss: 0.1660 - Test Loss: 0.2270 - Accuracy: 0.4091 - Precision: 0.6496 - Recall: 0.3372 - F1: 0.4439\n",
            "Epoch [9/15] - Train Loss: 0.1587 - Test Loss: 0.2332 - Accuracy: 0.4055 - Precision: 0.6045 - Recall: 0.3638 - F1: 0.4542\n",
            "Epoch [10/15] - Train Loss: 0.1488 - Test Loss: 0.2278 - Accuracy: 0.2977 - Precision: 0.5489 - Recall: 0.2904 - F1: 0.3799\n",
            "Epoch [11/15] - Train Loss: 0.1449 - Test Loss: 0.2622 - Accuracy: 0.4403 - Precision: 0.5707 - Recall: 0.3918 - F1: 0.4646\n",
            "Epoch [12/15] - Train Loss: 0.1294 - Test Loss: 0.2473 - Accuracy: 0.2772 - Precision: 0.5539 - Recall: 0.2696 - F1: 0.3627\n",
            "Epoch [13/15] - Train Loss: 0.1328 - Test Loss: 0.2862 - Accuracy: 0.4055 - Precision: 0.5703 - Recall: 0.3616 - F1: 0.4426\n",
            "Epoch [14/15] - Train Loss: 0.1164 - Test Loss: 0.3029 - Accuracy: 0.4162 - Precision: 0.5591 - Recall: 0.3774 - F1: 0.4506\n",
            "Epoch [15/15] - Train Loss: 0.1094 - Test Loss: 0.2939 - Accuracy: 0.3351 - Precision: 0.5129 - Recall: 0.3293 - F1: 0.4011\n"
          ]
        }
      ]
    },
    {
      "cell_type": "code",
      "source": [
        "def compute_metrics(preds, labels):\n",
        "    # Round predictions to 0 or 1\n",
        "    rounded_preds = preds.round()\n",
        "\n",
        "    accuracy = accuracy_score(labels, rounded_preds)\n",
        "    f1 = f1_score(labels, rounded_preds, average='micro')  # micro-averaging for multilabel\n",
        "    precision = precision_score(labels, rounded_preds, average='micro')\n",
        "    recall = recall_score(labels, rounded_preds, average='micro')\n",
        "\n",
        "    return {\n",
        "        'accuracy': accuracy,\n",
        "        'f1': f1,\n",
        "        'precision': precision,\n",
        "        'recall': recall,\n",
        "    }"
      ],
      "metadata": {
        "id": "E1xMAKw0Sm8k"
      },
      "execution_count": null,
      "outputs": []
    },
    {
      "cell_type": "code",
      "source": [
        "# Get the training and validation losses from the Trainer's history\n",
        "train_losses = trainer.history[\"train_loss\"]\n",
        "eval_losses = trainer.history[\"eval_loss\"]\n",
        "\n",
        "# Plot the training and validation losses\n",
        "plt.figure(figsize=(10, 6))\n",
        "plt.plot(train_losses, label=\"Training Loss\")\n",
        "plt.plot(eval_losses, label=\"Validation Loss\")\n",
        "plt.xlabel(\"Epoch\")\n",
        "plt.ylabel(\"Loss\")\n",
        "plt.title(\"Training and Validation Loss\")\n",
        "plt.legend()\n",
        "plt.show()"
      ],
      "metadata": {
        "id": "EH973IPZRutP"
      },
      "execution_count": null,
      "outputs": []
    },
    {
      "cell_type": "code",
      "source": [],
      "metadata": {
        "id": "wq-tVkgVRuwJ"
      },
      "execution_count": null,
      "outputs": []
    },
    {
      "cell_type": "markdown",
      "source": [
        "# **MobileNet for Dataverse**"
      ],
      "metadata": {
        "id": "ays9H-GRj0Zx"
      }
    },
    {
      "cell_type": "code",
      "source": [
        "import torch\n",
        "import torchvision\n",
        "import torchvision.transforms as transforms\n",
        "import torchvision.models as models\n",
        "import torch.nn as nn\n",
        "import torch.optim as optim\n",
        "from torch.utils.data import DataLoader\n",
        "from sklearn.metrics import roc_auc_score\n",
        "import matplotlib.pyplot as plt\n",
        "\n",
        "# Define transformations for data preprocessing\n",
        "transform = transforms.Compose([\n",
        "    transforms.Resize((224, 224)),\n",
        "    transforms.ToTensor(),\n",
        "    transforms.Normalize(mean=[0.485, 0.456, 0.406], std=[0.229, 0.224, 0.225]),\n",
        "])\n",
        "\n",
        "# Load the dataset\n",
        "train_dataset = torchvision.datasets.ImageFolder(root_path+'data/train', transform=transform)\n",
        "test_dataset = torchvision.datasets.ImageFolder(root_path+'data/test', transform=transform)\n",
        "val_dataset = torchvision.datasets.ImageFolder(root_path+'data/validation', transform=transform)\n",
        "\n",
        "# Create data loaders\n",
        "batch_size = 32\n",
        "train_loader = DataLoader(train_dataset, batch_size=batch_size, shuffle=True)\n",
        "test_loader = DataLoader(test_dataset, batch_size=batch_size)\n",
        "val_loader = DataLoader(val_dataset, batch_size=batch_size)\n",
        "\n",
        "# Load MobileNet model\n",
        "model = models.mobilenet_v2(pretrained=True)\n",
        "num_classes = len(train_dataset.classes)\n",
        "model.classifier[1] = nn.Linear(1280, num_classes)\n",
        "\n",
        "# Define loss function and optimizer\n",
        "criterion = nn.CrossEntropyLoss()\n",
        "optimizer = optim.Adam(model.parameters(), lr=0.001)\n",
        "\n",
        "# Training loop\n",
        "num_epochs = 10\n",
        "device = torch.device(\"cuda\" if torch.cuda.is_available() else \"cpu\")\n",
        "model.to(device)"
      ],
      "metadata": {
        "id": "O_KXV_vNjznH"
      },
      "execution_count": null,
      "outputs": []
    },
    {
      "cell_type": "code",
      "source": [
        "# Lists to store training and validation losses, accuracy, and AUC-ROC\n",
        "train_losses = []\n",
        "val_losses = []\n",
        "val_accuracies = []\n",
        "val_aurocs = []\n",
        "\n",
        "# Training loop\n",
        "for epoch in range(num_epochs):\n",
        "    model.train()\n",
        "    train_loss = 0.0\n",
        "    for images, labels in train_loader:\n",
        "        images, labels = images.to(device), labels.to(device)\n",
        "        optimizer.zero_grad()\n",
        "        outputs = model(images)\n",
        "        loss = criterion(outputs, labels)\n",
        "        loss.backward()\n",
        "        optimizer.step()\n",
        "        train_loss += loss.item() * images.size(0)\n",
        "\n",
        "    # Calculate average training loss for the epoch\n",
        "    train_loss /= len(train_loader.dataset)\n",
        "    train_losses.append(train_loss)\n",
        "\n",
        "    # Validation\n",
        "    model.eval()\n",
        "    val_loss = 0.0\n",
        "    correct = 0\n",
        "    total = 0\n",
        "    all_predictions = []\n",
        "    all_labels = []\n",
        "\n",
        "    with torch.no_grad():\n",
        "        for images, labels in val_loader:\n",
        "            images, labels = images.to(device), labels.to(device)\n",
        "            outputs = model(images)\n",
        "            loss = criterion(outputs, labels)\n",
        "            val_loss += loss.item() * images.size(0)\n",
        "\n",
        "            _, predicted = torch.max(outputs, 1)\n",
        "            total += labels.size(0)\n",
        "            correct += (predicted == labels).sum().item()\n",
        "\n",
        "            all_predictions.extend(outputs.cpu().numpy())\n",
        "            all_labels.extend(labels.cpu().numpy())\n",
        "\n",
        "    # Calculate average validation loss for the epoch\n",
        "    val_loss /= len(val_loader.dataset)\n",
        "    val_losses.append(val_loss)\n",
        "\n",
        "    # Calculate validation accuracy\n",
        "    val_accuracy = 100 * correct / total\n",
        "    val_accuracies.append(val_accuracy)\n",
        "\n",
        "    # Calculate validation AUC-ROC\n",
        "    val_auroc = roc_auc_score(all_labels, all_predictions, average='macro')\n",
        "    val_aurocs.append(val_auroc)\n",
        "\n",
        "    print(f\"Epoch [{epoch+1}/{num_epochs}] - \"\n",
        "          f\"Train Loss: {train_loss:.4f}, \"\n",
        "          f\"Val Loss: {val_loss:.4f}, \"\n",
        "          f\"Val Acc: {val_accuracy:.2f}%, \"\n",
        "          f\"Val AUC-ROC: {val_auroc:.4f}\")"
      ],
      "metadata": {
        "id": "xVl2tCNtjzpe"
      },
      "execution_count": null,
      "outputs": []
    },
    {
      "cell_type": "code",
      "source": [
        "# Plotting\n",
        "plt.figure(figsize=(10, 5))\n",
        "plt.subplot(1, 2, 1)\n",
        "plt.plot(range(1, num_epochs+1), train_losses, label='Train')\n",
        "plt.plot(range(1, num_epochs+1), val_losses, label='Validation')\n",
        "plt.xlabel('Epoch')\n",
        "plt.ylabel('Loss')\n",
        "plt.title('Training and Validation Loss')\n",
        "plt.legend()\n",
        "\n",
        "plt.subplot(1, 2, 2)\n",
        "plt.plot(range(1, num_epochs+1), val_accuracies, label='Accuracy')\n",
        "plt.plot(range(1, num_epochs+1), val_aurocs, label='AUC-ROC')\n",
        "plt.xlabel('Epoch')\n",
        "plt.ylabel('Metric')\n",
        "plt.title('Validation Accuracy and AUC-ROC')\n",
        "plt.legend()\n",
        "\n",
        "plt.tight_layout()\n",
        "plt.show()"
      ],
      "metadata": {
        "id": "ZpDo0DG7jzsD"
      },
      "execution_count": null,
      "outputs": []
    },
    {
      "cell_type": "code",
      "source": [],
      "metadata": {
        "id": "rI9ozhSajzvG"
      },
      "execution_count": null,
      "outputs": []
    },
    {
      "cell_type": "code",
      "source": [],
      "metadata": {
        "id": "MvxAkKBbjzwy"
      },
      "execution_count": null,
      "outputs": []
    },
    {
      "cell_type": "code",
      "source": [],
      "metadata": {
        "id": "mRISn-3LjzzC"
      },
      "execution_count": null,
      "outputs": []
    },
    {
      "cell_type": "code",
      "source": [],
      "metadata": {
        "id": "lMRD7dJwjz3M"
      },
      "execution_count": null,
      "outputs": []
    },
    {
      "cell_type": "code",
      "source": [],
      "metadata": {
        "id": "rfpWTaGLjz52"
      },
      "execution_count": null,
      "outputs": []
    }
  ]
}